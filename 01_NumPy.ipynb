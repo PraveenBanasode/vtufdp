{
 "cells": [
  {
   "cell_type": "markdown",
   "metadata": {},
   "source": [
    "# Introduction to Python Container Types\n",
    "\n",
    "Python has several **container** data types:\n",
    "* String - **`str`**\n",
    "* List and Tuple - **`list`**, **`tuple`**\n",
    "* Dictionary - **`dict`**\n",
    "* Set - **`set`**"
   ]
  },
  {
   "cell_type": "code",
   "execution_count": 2,
   "metadata": {},
   "outputs": [],
   "source": [
    "s = 'String'\n",
    "L = [1, 2, 3, 4, 5, 'Belagavi', [10, 20]] # Set is a collection of elements of any assorted type\n",
    "T = (1, 2, 3, 4, 5) # Tuple is immutable\n",
    "d = {'city': 'Belagavi', 'PIN': 590018} # key - value pairs. Keys can be either a string or an integer\n",
    "x = {1, 2, 3, 1} # Set contains unique elements"
   ]
  },
  {
   "cell_type": "code",
   "execution_count": 3,
   "metadata": {},
   "outputs": [
    {
     "name": "stdout",
     "output_type": "stream",
     "text": [
      "<class 'str'> String\n",
      "<class 'list'> [1, 2, 3, 4, 5, 'Belagavi', [10, 20]]\n",
      "<class 'tuple'> (1, 2, 3, 4, 5)\n",
      "<class 'dict'> {'city': 'Belagavi', 'PIN': 590018}\n",
      "<class 'set'> {1, 2, 3}\n"
     ]
    }
   ],
   "source": [
    "print(type(s), s)\n",
    "print(type(L), L)\n",
    "print(type(T), T)\n",
    "print(type(d), d)\n",
    "print(type(x), x)"
   ]
  },
  {
   "cell_type": "markdown",
   "metadata": {},
   "source": [
    "Collections have zero or more elements, **`len()`** returns the number of elements"
   ]
  },
  {
   "cell_type": "code",
   "execution_count": 4,
   "metadata": {},
   "outputs": [
    {
     "name": "stdout",
     "output_type": "stream",
     "text": [
      "6 String\n",
      "7 [1, 2, 3, 4, 5, 'Belagavi', [10, 20]]\n",
      "5 (1, 2, 3, 4, 5)\n",
      "2 {1, 2, 3}\n",
      "3 {1, 2, 3}\n"
     ]
    }
   ],
   "source": [
    "print(len(s), s)\n",
    "print(len(L), L)\n",
    "print(len(T), T)\n",
    "print(len(d), x)\n",
    "print(len(x), x)"
   ]
  },
  {
   "cell_type": "markdown",
   "metadata": {},
   "source": [
    "Individual elements of all containers except **`dict`** and **`set`**, can be accessed using their index. Index of initial element is **`0`**. Elements of a **`dict`** are accessed using the **key**. Sets are not **subscriptable**."
   ]
  },
  {
   "cell_type": "code",
   "execution_count": 5,
   "metadata": {},
   "outputs": [
    {
     "name": "stdout",
     "output_type": "stream",
     "text": [
      "S\n",
      "1\n",
      "1\n",
      "Belagavi\n",
      "{1, 2, 3}\n"
     ]
    }
   ],
   "source": [
    "print(s[0])\n",
    "print(L[0])\n",
    "print(T[0])\n",
    "print(d['city'])\n",
    "print(x)"
   ]
  },
  {
   "cell_type": "markdown",
   "metadata": {},
   "source": [
    "Indexing can also be made in the backward direction. Last element in a subscriptable container is **`-1`** and the last but one is **`-2`**."
   ]
  },
  {
   "cell_type": "code",
   "execution_count": 6,
   "metadata": {},
   "outputs": [
    {
     "name": "stdout",
     "output_type": "stream",
     "text": [
      "g\n",
      "[10, 20]\n",
      "5\n"
     ]
    }
   ],
   "source": [
    "print(s[-1])\n",
    "print(L[-1])\n",
    "print(T[-1])"
   ]
  },
  {
   "cell_type": "markdown",
   "metadata": {},
   "source": [
    "Multiple elements of subscriptable containers can be accessed by **slicing**, in both forward and backward directions. Range of elements in a slice is indicated using two indices, starting with the start index up to but not including the stop index."
   ]
  },
  {
   "cell_type": "code",
   "execution_count": 7,
   "metadata": {},
   "outputs": [
    {
     "name": "stdout",
     "output_type": "stream",
     "text": [
      "Str\n",
      "[1, 2, 3]\n",
      "(1, 2, 3)\n"
     ]
    }
   ],
   "source": [
    "print(s[0:3]) # start index 0, up to but not including index 3 = 0, 1, 2\n",
    "print(L[0:3])\n",
    "print(T[0:3])"
   ]
  },
  {
   "cell_type": "code",
   "execution_count": 8,
   "metadata": {},
   "outputs": [
    {
     "name": "stdout",
     "output_type": "stream",
     "text": [
      "Strin\n",
      "String\n"
     ]
    }
   ],
   "source": [
    "print(s[0:-1]) # index 0 up to but not including index of last element = 0 to 5\n",
    "print(s[0:7])  # index 0 up to but not including 7 = 0 to 6. Whole string"
   ]
  },
  {
   "cell_type": "markdown",
   "metadata": {},
   "source": [
    "Slicing with a step other than 1"
   ]
  },
  {
   "cell_type": "code",
   "execution_count": 9,
   "metadata": {},
   "outputs": [
    {
     "name": "stdout",
     "output_type": "stream",
     "text": [
      "String Srn\n",
      "String Si\n"
     ]
    }
   ],
   "source": [
    "print(s, s[0:7:2])\n",
    "print(s, s[0:7:3])"
   ]
  },
  {
   "cell_type": "markdown",
   "metadata": {},
   "source": [
    "Leaving out the start index is automatically taken as **`0`**. Leaving out the stop index is automatically taken as index of last element + 1."
   ]
  },
  {
   "cell_type": "code",
   "execution_count": 10,
   "metadata": {},
   "outputs": [
    {
     "name": "stdout",
     "output_type": "stream",
     "text": [
      "String\n",
      "String\n",
      "String\n"
     ]
    }
   ],
   "source": [
    "print(s[0:])\n",
    "print(s[:7])\n",
    "print(s[:])"
   ]
  },
  {
   "cell_type": "markdown",
   "metadata": {},
   "source": [
    "Slicing using negative indexing can be interesting, especially with steps other than 1."
   ]
  },
  {
   "cell_type": "code",
   "execution_count": 11,
   "metadata": {},
   "outputs": [
    {
     "name": "stdout",
     "output_type": "stream",
     "text": [
      "ing\n",
      "gnirtS\n",
      "gnirtS\n",
      "git\n"
     ]
    }
   ],
   "source": [
    "print(s[-3:])  # last 3 elements\n",
    "print(s[::-1]) # start index -1, stop index -7, step -1\n",
    "print(s[-1:-7:-1])\n",
    "print(s[::-2])"
   ]
  },
  {
   "cell_type": "markdown",
   "metadata": {},
   "source": [
    "All the above indexing and slicing techniques work with lists and tuples."
   ]
  },
  {
   "cell_type": "code",
   "execution_count": 12,
   "metadata": {},
   "outputs": [
    {
     "name": "stdout",
     "output_type": "stream",
     "text": [
      "[[10, 20], 'Belagavi', 5, 4, 3, 2, 1]\n"
     ]
    }
   ],
   "source": [
    "print(L[::-1])"
   ]
  },
  {
   "cell_type": "markdown",
   "metadata": {},
   "source": [
    "Python does not have the **array** data type. An array has elements **all of the same type**. Memory for the elements an array is contiguous. It is for this reason that any element can be accessed knowing the address of the initial element and size of one element. An array is more efficient than a list when you wish to store elements all of the same type.\n",
    "\n",
    "# NumPy and the `ndarray` Type\n",
    "\n",
    "**NumPy** introduces the **n-dimensioned array** data type to Python.To use **NumPy**, one must **`import`** the **`numpy`** package. It is customary to import **`numpy`** and assign it the short alias **`np`**. The basic operations on containers, such as **`len()`**, indexing, slicing, apply to **`ndarrays`**. An array is created with the **`numpy.array()`** function that takes a valid container as the input creates an array from the elements in that container."
   ]
  },
  {
   "cell_type": "code",
   "execution_count": 13,
   "metadata": {},
   "outputs": [
    {
     "name": "stdout",
     "output_type": "stream",
     "text": [
      "<class 'numpy.ndarray'>\n",
      "5\n",
      "1\n",
      "5\n",
      "[1 3 5]\n",
      "[5 4 3 2 1]\n"
     ]
    }
   ],
   "source": [
    "import numpy as np\n",
    "\n",
    "a = np.array([1, 2, 3, 4, 5])\n",
    "print(type(a)) # type numpy.ndarray\n",
    "print(len(a))  # number of elements\n",
    "print(a[0])    # initial element\n",
    "print(a[-1])   # last element\n",
    "print(a[::2])  # alternate element starting with initial element in forward direction\n",
    "print(a[::-1]) # Reverse the array"
   ]
  },
  {
   "cell_type": "markdown",
   "metadata": {},
   "source": [
    "## Properties of `ndarray`\n",
    "\n",
    "In addition to length, a NumPy array has other properties."
   ]
  },
  {
   "cell_type": "code",
   "execution_count": 14,
   "metadata": {},
   "outputs": [
    {
     "name": "stdout",
     "output_type": "stream",
     "text": [
      "ndim 1\n",
      "shape (5,)\n",
      "size 5\n",
      "dtype int32\n"
     ]
    }
   ],
   "source": [
    "print('ndim', a.ndim)    # number of dimensions\n",
    "print('shape', a.shape) # tuple with size along each dimension\n",
    "print('size', a.size)   # total number of elements in the array\n",
    "print('dtype', a.dtype) # data type of each element of the array, detected automatically"
   ]
  },
  {
   "cell_type": "code",
   "execution_count": 15,
   "metadata": {},
   "outputs": [
    {
     "name": "stdout",
     "output_type": "stream",
     "text": [
      "dtype float64\n"
     ]
    }
   ],
   "source": [
    "b = np.array([1, 2, 3, 4, 5.])\n",
    "print('dtype', b.dtype)"
   ]
  },
  {
   "cell_type": "code",
   "execution_count": 16,
   "metadata": {},
   "outputs": [
    {
     "name": "stdout",
     "output_type": "stream",
     "text": [
      "dtype float64\n"
     ]
    }
   ],
   "source": [
    "c = np.array([1, 2, 3, 4, 5], dtype=float)\n",
    "print('dtype', c.dtype)"
   ]
  },
  {
   "cell_type": "markdown",
   "metadata": {},
   "source": [
    "## Two Dimensioned Arrays\n",
    "\n",
    "Let us first create a two dimensioned list, with 2 rows and 5 columns. Then convert it into a two dimensioned array."
   ]
  },
  {
   "cell_type": "code",
   "execution_count": 17,
   "metadata": {},
   "outputs": [
    {
     "name": "stdout",
     "output_type": "stream",
     "text": [
      "2 [[1, 2, 3, 4, 5], [6, 7, 8, 9, 10]]\n",
      "Index 0: [1, 2, 3, 4, 5]\n",
      "Index 1: [6, 7, 8, 9, 10]\n",
      "5\n",
      "5\n"
     ]
    }
   ],
   "source": [
    "L = [ [1, 2, 3, 4, 5], [6, 7, 8, 9, 10]]\n",
    "print(len(L), L)\n",
    "print('Index 0:', L[0])\n",
    "print('Index 1:', L[1])\n",
    "print(len(L[0]))\n",
    "print(len(L[1]))"
   ]
  },
  {
   "cell_type": "code",
   "execution_count": 18,
   "metadata": {},
   "outputs": [
    {
     "name": "stdout",
     "output_type": "stream",
     "text": [
      "1\n"
     ]
    }
   ],
   "source": [
    "print(L[0][0])"
   ]
  },
  {
   "cell_type": "code",
   "execution_count": 19,
   "metadata": {},
   "outputs": [
    {
     "name": "stdout",
     "output_type": "stream",
     "text": [
      "2\n",
      "(2, 5)\n",
      "10\n",
      "2\n",
      "int32\n"
     ]
    }
   ],
   "source": [
    "x = np.array(L)\n",
    "print(len(x))\n",
    "print(x.shape)\n",
    "print(x.size)\n",
    "print(x.ndim)\n",
    "print(x.dtype)"
   ]
  },
  {
   "cell_type": "code",
   "execution_count": 20,
   "metadata": {},
   "outputs": [],
   "source": [
    "y = np.array([[1, 2, 3, 4], [5, 6, 7]]) # An array of lists, not an array of numbers"
   ]
  },
  {
   "cell_type": "code",
   "execution_count": 21,
   "metadata": {},
   "outputs": [
    {
     "name": "stdout",
     "output_type": "stream",
     "text": [
      "<class 'numpy.ndarray'>\n",
      "(2,)\n",
      "object\n",
      "<class 'list'>\n"
     ]
    }
   ],
   "source": [
    "print(type(y))\n",
    "print(y.shape)\n",
    "print(y.dtype)\n",
    "print(type(y[0]))"
   ]
  },
  {
   "cell_type": "code",
   "execution_count": 22,
   "metadata": {},
   "outputs": [
    {
     "name": "stdout",
     "output_type": "stream",
     "text": [
      "float64\n"
     ]
    }
   ],
   "source": [
    "z = np.array([[1, 2, 3, 4], [5, 6, 7, 8]], dtype=float)\n",
    "print(z.dtype)"
   ]
  },
  {
   "cell_type": "markdown",
   "metadata": {},
   "source": [
    "## Array Indexing"
   ]
  },
  {
   "cell_type": "code",
   "execution_count": 23,
   "metadata": {},
   "outputs": [
    {
     "name": "stdout",
     "output_type": "stream",
     "text": [
      "<class 'numpy.ndarray'>\n",
      "2\n",
      "(3, 5)\n",
      "15\n",
      "int32\n"
     ]
    }
   ],
   "source": [
    "x = np.array([[1, 2, 3, 4, 5], [6, 7, 8, 9, 10], [11, 12, 13, 14, 15]])\n",
    "\n",
    "def array_prop(a):\n",
    "    print(type(a))\n",
    "    print(a.ndim)\n",
    "    print(a.shape)\n",
    "    print(a.size)\n",
    "    print(a.dtype)\n",
    "\n",
    "array_prop(x)"
   ]
  },
  {
   "cell_type": "code",
   "execution_count": 24,
   "metadata": {},
   "outputs": [
    {
     "name": "stdout",
     "output_type": "stream",
     "text": [
      "[1 2 3 4 5]\n",
      "[ 6  7  8  9 10]\n",
      "[11 12 13 14 15]\n"
     ]
    }
   ],
   "source": [
    "print(x[0]) # Row 0\n",
    "print(x[1]) # Row 1\n",
    "print(x[2]) # Row 2"
   ]
  },
  {
   "cell_type": "code",
   "execution_count": 25,
   "metadata": {},
   "outputs": [
    {
     "name": "stdout",
     "output_type": "stream",
     "text": [
      "1\n",
      "2\n",
      "15\n",
      "15\n"
     ]
    }
   ],
   "source": [
    "print(x[0,0])\n",
    "print(x[0,1])\n",
    "print(x[2,4])\n",
    "print(x[-1,-1])"
   ]
  },
  {
   "cell_type": "markdown",
   "metadata": {},
   "source": [
    "## Array Slicing"
   ]
  },
  {
   "cell_type": "code",
   "execution_count": 26,
   "metadata": {},
   "outputs": [
    {
     "name": "stdout",
     "output_type": "stream",
     "text": [
      "[[1 2 3]\n",
      " [6 7 8]]\n"
     ]
    }
   ],
   "source": [
    "print(x[0:2, 0:3])"
   ]
  },
  {
   "cell_type": "code",
   "execution_count": 27,
   "metadata": {},
   "outputs": [
    {
     "name": "stdout",
     "output_type": "stream",
     "text": [
      "[[ 1  2  3  4  5]\n",
      " [ 6  7  8  9 10]\n",
      " [11 12 13 14 15]]\n"
     ]
    }
   ],
   "source": [
    "print(x)"
   ]
  },
  {
   "cell_type": "markdown",
   "metadata": {},
   "source": [
    "## Operations on Arrays\n",
    "\n",
    "Transpose, Addition, subtraction, and Multiplication with a scalar, elementwise array multiplication, matrix multiplication"
   ]
  },
  {
   "cell_type": "code",
   "execution_count": 28,
   "metadata": {},
   "outputs": [
    {
     "name": "stdout",
     "output_type": "stream",
     "text": [
      "[[ 1  6 11]\n",
      " [ 2  7 12]\n",
      " [ 3  8 13]\n",
      " [ 4  9 14]\n",
      " [ 5 10 15]]\n"
     ]
    }
   ],
   "source": [
    "print(x.T)"
   ]
  },
  {
   "cell_type": "code",
   "execution_count": 29,
   "metadata": {},
   "outputs": [
    {
     "name": "stdout",
     "output_type": "stream",
     "text": [
      "[[ 1  2  3  4  5]\n",
      " [ 6  7  8  9 10]]\n"
     ]
    }
   ],
   "source": [
    "a = np.array([[1, 2, 3, 4, 5], [6, 7, 8, 9, 10]])\n",
    "b = np.array([[11, 12, 13, 14, 15], [16, 17, 18, 19, 20]])\n",
    "print(a)"
   ]
  },
  {
   "cell_type": "code",
   "execution_count": 30,
   "metadata": {},
   "outputs": [
    {
     "name": "stdout",
     "output_type": "stream",
     "text": [
      "[[11 12 13 14 15]\n",
      " [16 17 18 19 20]]\n"
     ]
    }
   ],
   "source": [
    "print(b)"
   ]
  },
  {
   "cell_type": "code",
   "execution_count": 31,
   "metadata": {},
   "outputs": [
    {
     "name": "stdout",
     "output_type": "stream",
     "text": [
      "[[12 14 16 18 20]\n",
      " [22 24 26 28 30]]\n"
     ]
    }
   ],
   "source": [
    "print(a + b)"
   ]
  },
  {
   "cell_type": "code",
   "execution_count": 32,
   "metadata": {},
   "outputs": [
    {
     "name": "stdout",
     "output_type": "stream",
     "text": [
      "[[10 10 10 10 10]\n",
      " [10 10 10 10 10]]\n"
     ]
    }
   ],
   "source": [
    "print(b - a)"
   ]
  },
  {
   "cell_type": "code",
   "execution_count": 33,
   "metadata": {},
   "outputs": [
    {
     "name": "stdout",
     "output_type": "stream",
     "text": [
      "[[ 2  4  6  8 10]\n",
      " [12 14 16 18 20]]\n"
     ]
    }
   ],
   "source": [
    "print(2 * a)"
   ]
  },
  {
   "cell_type": "code",
   "execution_count": 34,
   "metadata": {},
   "outputs": [
    {
     "name": "stdout",
     "output_type": "stream",
     "text": [
      "[[ 11  24  39  56  75]\n",
      " [ 96 119 144 171 200]]\n"
     ]
    }
   ],
   "source": [
    "print(a * b)"
   ]
  },
  {
   "cell_type": "code",
   "execution_count": 35,
   "metadata": {},
   "outputs": [
    {
     "name": "stdout",
     "output_type": "stream",
     "text": [
      "[[205 280]\n",
      " [530 730]]\n"
     ]
    }
   ],
   "source": [
    "print(a @ b.T)"
   ]
  },
  {
   "cell_type": "code",
   "execution_count": 36,
   "metadata": {},
   "outputs": [
    {
     "name": "stdout",
     "output_type": "stream",
     "text": [
      "[[205 280]\n",
      " [530 730]]\n"
     ]
    }
   ],
   "source": [
    "print(np.dot(a, b.T))"
   ]
  },
  {
   "cell_type": "code",
   "execution_count": 41,
   "metadata": {},
   "outputs": [
    {
     "name": "stdout",
     "output_type": "stream",
     "text": [
      "[ 1  2  3  4  5  6  7  8  9 10 11 12]\n",
      "[[ 1  2  3  4]\n",
      " [ 5  6  7  8]\n",
      " [ 9 10 11 12]]\n",
      "[[ 1  2]\n",
      " [ 3  4]\n",
      " [ 5  6]\n",
      " [ 7  8]\n",
      " [ 9 10]\n",
      " [11 12]]\n"
     ]
    }
   ],
   "source": [
    "a = np.array(np.arange(1, 13))\n",
    "print(a)\n",
    "a = a.reshape((3, 4))\n",
    "print(a)\n",
    "a = a.reshape((6, 2))\n",
    "print(a)"
   ]
  },
  {
   "cell_type": "markdown",
   "metadata": {},
   "source": [
    "## Creating Common Matrices Quickly\n",
    "\n",
    "Some matrices are required commonly, a matrix with all zeros, or ones, identity matrix etc. NumPy provides functions to create such commonly required matrices quickly."
   ]
  },
  {
   "cell_type": "code",
   "execution_count": 37,
   "metadata": {},
   "outputs": [
    {
     "name": "stdout",
     "output_type": "stream",
     "text": [
      "<class 'numpy.ndarray'> [0 1 2 3]\n"
     ]
    }
   ],
   "source": [
    "a = np.arange(4)\n",
    "print(type(a), a)"
   ]
  },
  {
   "cell_type": "code",
   "execution_count": 38,
   "metadata": {},
   "outputs": [
    {
     "name": "stdout",
     "output_type": "stream",
     "text": [
      "[1 2 3 4 5]\n"
     ]
    }
   ],
   "source": [
    "b = np.arange(1, 6)\n",
    "print(b)"
   ]
  },
  {
   "cell_type": "code",
   "execution_count": 39,
   "metadata": {},
   "outputs": [
    {
     "name": "stdout",
     "output_type": "stream",
     "text": [
      "[1 3 5 7 9]\n",
      "[10  8  6  4  2]\n"
     ]
    }
   ],
   "source": [
    "c = np.arange(1, 11, 2)\n",
    "print(c)\n",
    "d = np.arange(10, 0, -2)\n",
    "print(d)"
   ]
  },
  {
   "cell_type": "code",
   "execution_count": 40,
   "metadata": {},
   "outputs": [
    {
     "name": "stdout",
     "output_type": "stream",
     "text": [
      "[[0. 0. 0. 0. 0.]\n",
      " [0. 0. 0. 0. 0.]\n",
      " [0. 0. 0. 0. 0.]]\n"
     ]
    }
   ],
   "source": [
    "a = np.zeros((3,5), dtype=float)\n",
    "print(a)"
   ]
  },
  {
   "cell_type": "code",
   "execution_count": 41,
   "metadata": {},
   "outputs": [
    {
     "name": "stdout",
     "output_type": "stream",
     "text": [
      "[[1 1 1 1 1]\n",
      " [1 1 1 1 1]\n",
      " [1 1 1 1 1]\n",
      " [1 1 1 1 1]]\n"
     ]
    }
   ],
   "source": [
    "b = np.ones((4,5), dtype=int)\n",
    "print(b)"
   ]
  },
  {
   "cell_type": "code",
   "execution_count": 42,
   "metadata": {},
   "outputs": [
    {
     "name": "stdout",
     "output_type": "stream",
     "text": [
      "[[1. 0. 0. 0.]\n",
      " [0. 1. 0. 0.]\n",
      " [0. 0. 1. 0.]\n",
      " [0. 0. 0. 1.]]\n"
     ]
    }
   ],
   "source": [
    "c = np.eye(4, dtype=float)\n",
    "print(c)"
   ]
  },
  {
   "cell_type": "code",
   "execution_count": 43,
   "metadata": {},
   "outputs": [
    {
     "name": "stdout",
     "output_type": "stream",
     "text": [
      "[[1. 0. 0. 0.]\n",
      " [0. 2. 0. 0.]\n",
      " [0. 0. 3. 0.]\n",
      " [0. 0. 0. 4.]]\n"
     ]
    }
   ],
   "source": [
    "d = np.diag([1, 2, 3, 4.0])\n",
    "print(d)"
   ]
  },
  {
   "cell_type": "code",
   "execution_count": 44,
   "metadata": {},
   "outputs": [
    {
     "name": "stdout",
     "output_type": "stream",
     "text": [
      "[[0 1 0 0]\n",
      " [0 0 2 0]\n",
      " [0 0 0 3]\n",
      " [0 0 0 0]]\n"
     ]
    }
   ],
   "source": [
    "x = np.diag([1, 2, 3], 1)\n",
    "print(x)"
   ]
  },
  {
   "cell_type": "code",
   "execution_count": 45,
   "metadata": {},
   "outputs": [
    {
     "name": "stdout",
     "output_type": "stream",
     "text": [
      "[[1. 1. 0. 0.]\n",
      " [1. 1. 1. 0.]\n",
      " [0. 1. 1. 1.]\n",
      " [0. 0. 1. 1.]]\n"
     ]
    }
   ],
   "source": [
    "y = np.eye(4) + np.diag([1, 1, 1], 1) + np.diag([1, 1, 1], -1)\n",
    "print(y)"
   ]
  },
  {
   "cell_type": "markdown",
   "metadata": {},
   "source": [
    "## NumPy Sub-packages\n",
    "\n",
    "In addition to the **`ndarray`** data type, NumPy also provides several useful sub-packages, including the following:\n",
    "* **`random`** - Random number tools\n",
    "* **`linalg`** - Linear algebra functions\n",
    "* **`fft`** - FFT Fast Fourier Transform functions\n",
    "* **`polynomial`** - Polynomial operations\n",
    "\n",
    "and a few utilities."
   ]
  },
  {
   "cell_type": "markdown",
   "metadata": {},
   "source": [
    "### Random Numbers"
   ]
  },
  {
   "cell_type": "code",
   "execution_count": 46,
   "metadata": {},
   "outputs": [
    {
     "name": "stdout",
     "output_type": "stream",
     "text": [
      "[[0.02797458 0.12077824 0.84780474 0.16462124]\n",
      " [0.18204782 0.79512987 0.26202031 0.83225063]\n",
      " [0.16812299 0.24643745 0.92575764 0.52471936]]\n"
     ]
    }
   ],
   "source": [
    "x = np.random.rand(3, 4) # Uniform distribution\n",
    "print(x)"
   ]
  },
  {
   "cell_type": "code",
   "execution_count": 47,
   "metadata": {},
   "outputs": [
    {
     "name": "stdout",
     "output_type": "stream",
     "text": [
      "[[ 2.79745845 12.07782355 84.78047369 16.46212373]\n",
      " [18.20478216 79.51298715 26.20203061 83.22506266]\n",
      " [16.81229859 24.64374503 92.57576436 52.47193592]]\n"
     ]
    }
   ],
   "source": [
    "print(x * 100)"
   ]
  },
  {
   "cell_type": "code",
   "execution_count": 48,
   "metadata": {},
   "outputs": [
    {
     "name": "stdout",
     "output_type": "stream",
     "text": [
      "[[ 0.04315548  0.09685165 -2.08139938 -0.48477488]\n",
      " [-0.13302113 -0.90243101 -0.25537939  0.18989469]\n",
      " [ 0.75357576 -1.02389049  1.33712237  0.87444531]]\n"
     ]
    }
   ],
   "source": [
    "y = np.random.randn(3, 4) # Normal distribution\n",
    "print(y)"
   ]
  },
  {
   "cell_type": "code",
   "execution_count": 49,
   "metadata": {},
   "outputs": [
    {
     "name": "stdout",
     "output_type": "stream",
     "text": [
      "[ 1  2  3  4  5  6  7  8  9 10]\n",
      "[ 6  2  7  4  8 10  3  9  1  5]\n"
     ]
    }
   ],
   "source": [
    "a = np.arange(1, 11)\n",
    "print(a)\n",
    "np.random.shuffle(a)\n",
    "print(a)"
   ]
  },
  {
   "cell_type": "code",
   "execution_count": 50,
   "metadata": {},
   "outputs": [
    {
     "name": "stdout",
     "output_type": "stream",
     "text": [
      "[ 1  2  3  4  5  6  7  8  9 10]\n",
      "[2 2 4 2]\n"
     ]
    }
   ],
   "source": [
    "b = np.arange(1, 11)\n",
    "print(b)\n",
    "c = np.random.choice(b, 4, replace=True)\n",
    "print(c)"
   ]
  },
  {
   "cell_type": "markdown",
   "metadata": {},
   "source": [
    "### Linear Algebra"
   ]
  },
  {
   "cell_type": "code",
   "execution_count": 51,
   "metadata": {},
   "outputs": [
    {
     "name": "stdout",
     "output_type": "stream",
     "text": [
      "[[10.0, 3, -2], [2, -8, 5], [-1, 3, 7]]\n",
      "[100, -25, 75]\n",
      "[ 8.51900393 10.02621232  7.63433814]\n"
     ]
    }
   ],
   "source": [
    "a = [ [10.0, 3, -2],\n",
    "      [2, -8, 5],\n",
    "      [-1, 3, 7]]\n",
    "b = [100, -25, 75]\n",
    "x = np.linalg.solve(a, b)\n",
    "print(a)\n",
    "print(b)\n",
    "print(x)"
   ]
  },
  {
   "cell_type": "code",
   "execution_count": 52,
   "metadata": {
    "scrolled": true
   },
   "outputs": [
    {
     "name": "stdout",
     "output_type": "stream",
     "text": [
      "[[ 0.09305374  0.03538663  0.00131062]\n",
      " [ 0.0249017  -0.08912189  0.07077326]\n",
      " [ 0.00262123  0.04325033  0.11271298]]\n",
      "[1.77635684e-15 0.00000000e+00 0.00000000e+00]\n"
     ]
    }
   ],
   "source": [
    "ainv = np.linalg.inv(a)\n",
    "print(ainv)\n",
    "print(ainv @ b - x)"
   ]
  },
  {
   "cell_type": "code",
   "execution_count": 53,
   "metadata": {
    "scrolled": true
   },
   "outputs": [
    {
     "name": "stdout",
     "output_type": "stream",
     "text": [
      "-762.9999999999999\n"
     ]
    }
   ],
   "source": [
    "print(np.linalg.det(a))"
   ]
  },
  {
   "cell_type": "code",
   "execution_count": 54,
   "metadata": {},
   "outputs": [
    {
     "name": "stdout",
     "output_type": "stream",
     "text": [
      "Eigenvalues: [-9.32341951 10.610847    7.71257251]\n",
      "Eigenvectors:\n",
      " [[ 0.169663   -0.97120631  0.34495882]\n",
      " [-0.96736865 -0.04133496  0.32420881]\n",
      " [ 0.18818171  0.23462678  0.88084735]]\n"
     ]
    }
   ],
   "source": [
    "v, x = np.linalg.eig(a)\n",
    "print('Eigenvalues:', v)\n",
    "print('Eigenvectors:\\n', x)"
   ]
  },
  {
   "cell_type": "code",
   "execution_count": 55,
   "metadata": {},
   "outputs": [
    {
     "name": "stdout",
     "output_type": "stream",
     "text": [
      "[[ 3.16227766  0.          0.        ]\n",
      " [ 0.9486833   2.66458252  0.        ]\n",
      " [-0.63245553  2.10164255  1.47753125]]\n",
      "[[10.  3. -2.]\n",
      " [ 3.  8.  5.]\n",
      " [-2.  5.  7.]]\n"
     ]
    }
   ],
   "source": [
    "from numpy.linalg import cholesky\n",
    "\n",
    "a = [ [10.0, 3, -2],\n",
    "      [3, 8, 5],\n",
    "      [-2, 5, 7]]\n",
    "b = [100, -25, 75]\n",
    "c = cholesky(a)\n",
    "print(c)\n",
    "print(c @ c.T)"
   ]
  },
  {
   "cell_type": "code",
   "execution_count": 56,
   "metadata": {},
   "outputs": [
    {
     "name": "stdout",
     "output_type": "stream",
     "text": [
      "11.862312981776856\n",
      "17.0\n",
      "\n",
      "    Compute the condition number of a matrix.\n",
      "\n",
      "    This function is capable of returning the condition number using\n",
      "    one of seven different norms, depending on the value of `p` (see\n",
      "    Parameters below).\n",
      "\n",
      "    Parameters\n",
      "    ----------\n",
      "    x : (..., M, N) array_like\n",
      "        The matrix whose condition number is sought.\n",
      "    p : {None, 1, -1, 2, -2, inf, -inf, 'fro'}, optional\n",
      "        Order of the norm:\n",
      "\n",
      "        =====  ============================\n",
      "        p      norm for matrices\n",
      "        =====  ============================\n",
      "        None   2-norm, computed directly using the ``SVD``\n",
      "        'fro'  Frobenius norm\n",
      "        inf    max(sum(abs(x), axis=1))\n",
      "        -inf   min(sum(abs(x), axis=1))\n",
      "        1      max(sum(abs(x), axis=0))\n",
      "        -1     min(sum(abs(x), axis=0))\n",
      "        2      2-norm (largest sing. value)\n",
      "        -2     smallest singular value\n",
      "        =====  ============================\n",
      "\n",
      "        inf means the numpy.inf object, and the Frobenius norm is\n",
      "        the root-of-sum-of-squares norm.\n",
      "\n",
      "    Returns\n",
      "    -------\n",
      "    c : {float, inf}\n",
      "        The condition number of the matrix. May be infinite.\n",
      "\n",
      "    See Also\n",
      "    --------\n",
      "    numpy.linalg.norm\n",
      "\n",
      "    Notes\n",
      "    -----\n",
      "    The condition number of `x` is defined as the norm of `x` times the\n",
      "    norm of the inverse of `x` [1]_; the norm can be the usual L2-norm\n",
      "    (root-of-sum-of-squares) or one of a number of other matrix norms.\n",
      "\n",
      "    References\n",
      "    ----------\n",
      "    .. [1] G. Strang, *Linear Algebra and Its Applications*, Orlando, FL,\n",
      "           Academic Press, Inc., 1980, pg. 285.\n",
      "\n",
      "    Examples\n",
      "    --------\n",
      "    >>> from numpy import linalg as LA\n",
      "    >>> a = np.array([[1, 0, -1], [0, 1, 0], [1, 0, 1]])\n",
      "    >>> a\n",
      "    array([[ 1,  0, -1],\n",
      "           [ 0,  1,  0],\n",
      "           [ 1,  0,  1]])\n",
      "    >>> LA.cond(a)\n",
      "    1.4142135623730951\n",
      "    >>> LA.cond(a, 'fro')\n",
      "    3.1622776601683795\n",
      "    >>> LA.cond(a, np.inf)\n",
      "    2.0\n",
      "    >>> LA.cond(a, -np.inf)\n",
      "    1.0\n",
      "    >>> LA.cond(a, 1)\n",
      "    2.0\n",
      "    >>> LA.cond(a, -1)\n",
      "    1.0\n",
      "    >>> LA.cond(a, 2)\n",
      "    1.4142135623730951\n",
      "    >>> LA.cond(a, -2)\n",
      "    0.70710678118654746 # may vary\n",
      "    >>> min(LA.svd(a, compute_uv=0))*min(LA.svd(LA.inv(a), compute_uv=0))\n",
      "    0.70710678118654746 # may vary\n",
      "\n",
      "    \n"
     ]
    }
   ],
   "source": [
    "import numpy.linalg as la\n",
    "\n",
    "print(la.cond(a))\n",
    "print(la.norm(a))\n",
    "print(la.cond.__doc__)"
   ]
  },
  {
   "cell_type": "markdown",
   "metadata": {},
   "source": [
    "## Statistics\n",
    "\n",
    "NumPy can calculate simple statistical values"
   ]
  },
  {
   "cell_type": "code",
   "execution_count": 57,
   "metadata": {},
   "outputs": [
    {
     "name": "stdout",
     "output_type": "stream",
     "text": [
      "[[  7.44640745   0.10100092  -3.96500844]\n",
      " [ -6.00831314 -14.24438215   0.82565843]\n",
      " [  3.39570667   4.44061107  -1.30390896]\n",
      " [ -4.27913083   1.69602986  19.32241972]\n",
      " [ -2.73944071  -9.45596009  -2.91295835]\n",
      " [ -0.78515802   3.2053325  -23.01305992]\n",
      " [ 17.91820824  -8.5935065  -15.74516848]\n",
      " [ 15.81416943 -11.23875178 -19.53873444]\n",
      " [  8.92640417   0.74334787  -2.91949804]\n",
      " [  6.59893155  -6.43074994   9.37646758]]\n"
     ]
    }
   ],
   "source": [
    "a = np.random.randn(10, 3) * 10\n",
    "print(a)"
   ]
  },
  {
   "cell_type": "code",
   "execution_count": 43,
   "metadata": {},
   "outputs": [
    {
     "name": "stdout",
     "output_type": "stream",
     "text": [
      "[[ 1  2]\n",
      " [ 3  4]\n",
      " [ 5  6]\n",
      " [ 7  8]\n",
      " [ 9 10]\n",
      " [11 12]]\n",
      "78\n",
      "[36 42]\n",
      "[ 3  7 11 15 19 23]\n",
      "[ 3  7 11 15 19 23]\n"
     ]
    }
   ],
   "source": [
    "print(a)\n",
    "print(np.sum(a))\n",
    "print(np.sum(a, axis=0))\n",
    "print(np.sum(a, axis=1))\n",
    "# Alternate \n",
    "print(a.sum(axis=1))"
   ]
  },
  {
   "cell_type": "code",
   "execution_count": 59,
   "metadata": {},
   "outputs": [
    {
     "name": "stdout",
     "output_type": "stream",
     "text": [
      "-1.1121011454585215\n",
      "[ 4.62877848 -3.97770283 -3.98737909]\n",
      "[ 1.19413331 -6.47567896  2.17746959  5.57977291 -5.03611972 -6.86429515\n",
      " -2.14015558 -4.98777227  2.25008467  3.18154973]\n"
     ]
    }
   ],
   "source": [
    "print(np.mean(a))\n",
    "print(np.mean(a, axis=0))\n",
    "print(np.mean(a, axis=1))"
   ]
  },
  {
   "cell_type": "code",
   "execution_count": 60,
   "metadata": {},
   "outputs": [
    {
     "name": "stdout",
     "output_type": "stream",
     "text": [
      "10.016165605418157\n",
      "[ 7.80789621  6.39563378 12.2338363 ]\n",
      "[ 4.72237983  6.16118786  2.49839332 10.01901167  3.12610181 11.53452662\n",
      " 14.48079272 15.09443632  4.95203942  6.89085894]\n"
     ]
    }
   ],
   "source": [
    "print(np.std(a))\n",
    "print(np.std(a, axis=0))\n",
    "print(np.std(a, axis=1))"
   ]
  },
  {
   "cell_type": "markdown",
   "metadata": {},
   "source": [
    "# References\n",
    "\n",
    "* [NumPy home page](https://numpy.org/#)\n",
    "* [NumPy tutorial for absolute beginners](https://numpy.org/devdocs/user/absolute_beginners.html)\n",
    "* [Learning Scientific Programming with Python by Christian Hill](https://scipython.com/)"
   ]
  }
 ],
 "metadata": {
  "kernelspec": {
   "display_name": "Python 3",
   "language": "python",
   "name": "python3"
  },
  "language_info": {
   "codemirror_mode": {
    "name": "ipython",
    "version": 3
   },
   "file_extension": ".py",
   "mimetype": "text/x-python",
   "name": "python",
   "nbconvert_exporter": "python",
   "pygments_lexer": "ipython3",
   "version": "3.7.6"
  }
 },
 "nbformat": 4,
 "nbformat_minor": 2
}
