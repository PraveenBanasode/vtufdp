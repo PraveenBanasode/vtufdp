{
 "cells": [
  {
   "cell_type": "markdown",
   "metadata": {},
   "source": [
    "# Pandas\n",
    "\n",
    "Pandas provides **Series** and **DataFrame** data structures to Python in addition to data input/output functions, basic data analysis tools, utilities and plotting capabilities. It builds on top of NumPy ndarray. Pandas is squished form of **Panel Data Structure**. Pandas is primarily used for data munging and preparation but also provides some data analysis tools. Pandas does not implement any significant modeling functionality other than simple linear and panel regression. For these, you can use statsmodels and scikit-learn which build on top of the DataFrame data structure."
   ]
  },
  {
   "cell_type": "code",
   "execution_count": 1,
   "metadata": {},
   "outputs": [
    {
     "name": "stdout",
     "output_type": "stream",
     "text": [
      "0    1.0\n",
      "1    3.0\n",
      "2    5.0\n",
      "3    NaN\n",
      "4    6.0\n",
      "5    8.0\n",
      "dtype: float64\n"
     ]
    }
   ],
   "source": [
    "import numpy as np\n",
    "import pandas as pd\n",
    "\n",
    "s = pd.Series([1, 3, 5, np.nan, 6, 8])\n",
    "print(s)"
   ]
  },
  {
   "cell_type": "code",
   "execution_count": 2,
   "metadata": {},
   "outputs": [
    {
     "name": "stdout",
     "output_type": "stream",
     "text": [
      "          A         B         C         D\n",
      "0  1.102933  0.004014 -1.392061 -1.144745\n",
      "1  0.590045 -0.420929  0.945703  1.962290\n",
      "2  0.684100 -0.653912  1.431976 -0.900998\n",
      "3 -0.559076  0.563607 -0.607014  0.014401\n",
      "4 -0.171584 -1.903543  0.390012 -1.587581\n",
      "5  0.741322  1.001099  0.989959 -1.002977\n"
     ]
    }
   ],
   "source": [
    "data = np.random.randn(6, 4)\n",
    "df = pd.DataFrame(data, columns=list('ABCD'))\n",
    "print(df)"
   ]
  },
  {
   "cell_type": "markdown",
   "metadata": {},
   "source": [
    "## Properties of DataFrame"
   ]
  },
  {
   "cell_type": "code",
   "execution_count": 3,
   "metadata": {},
   "outputs": [
    {
     "name": "stdout",
     "output_type": "stream",
     "text": [
      "Shape: (6, 4)\n",
      "Data Types: A    float64\n",
      "B    float64\n",
      "C    float64\n",
      "D    float64\n",
      "dtype: object\n",
      "Column Labels: Index(['A', 'B', 'C', 'D'], dtype='object')\n",
      "RangeIndex(start=0, stop=6, step=1)\n"
     ]
    }
   ],
   "source": [
    "print('Shape:', df.shape)\n",
    "print('Data Types:', df.dtypes)\n",
    "print('Column Labels:', df.columns)\n",
    "print(df.index)"
   ]
  },
  {
   "cell_type": "code",
   "execution_count": 4,
   "metadata": {},
   "outputs": [
    {
     "name": "stdout",
     "output_type": "stream",
     "text": [
      "          A         B         C         D\n",
      "0  1.102933  0.004014 -1.392061 -1.144745\n",
      "1  0.590045 -0.420929  0.945703  1.962290\n",
      "2  0.684100 -0.653912  1.431976 -0.900998\n",
      "3 -0.559076  0.563607 -0.607014  0.014401\n",
      "4 -0.171584 -1.903543  0.390012 -1.587581\n"
     ]
    }
   ],
   "source": [
    "print(df.head())"
   ]
  },
  {
   "cell_type": "code",
   "execution_count": 5,
   "metadata": {},
   "outputs": [
    {
     "name": "stdout",
     "output_type": "stream",
     "text": [
      "          A         B         C         D\n",
      "1  0.590045 -0.420929  0.945703  1.962290\n",
      "2  0.684100 -0.653912  1.431976 -0.900998\n",
      "3 -0.559076  0.563607 -0.607014  0.014401\n",
      "4 -0.171584 -1.903543  0.390012 -1.587581\n",
      "5  0.741322  1.001099  0.989959 -1.002977\n"
     ]
    }
   ],
   "source": [
    "print(df.tail())"
   ]
  },
  {
   "cell_type": "code",
   "execution_count": 6,
   "metadata": {},
   "outputs": [
    {
     "name": "stdout",
     "output_type": "stream",
     "text": [
      "          A         B         C         D\n",
      "0  1.102933  0.004014 -1.392061 -1.144745\n",
      "1  0.590045 -0.420929  0.945703  1.962290\n",
      "2  0.684100 -0.653912  1.431976 -0.900998\n"
     ]
    }
   ],
   "source": [
    "print(df.head(3))"
   ]
  },
  {
   "cell_type": "markdown",
   "metadata": {},
   "source": [
    "## Indexing and Slicing DataFrame"
   ]
  },
  {
   "cell_type": "code",
   "execution_count": 7,
   "metadata": {},
   "outputs": [
    {
     "name": "stdout",
     "output_type": "stream",
     "text": [
      "<class 'pandas.core.series.Series'>\n"
     ]
    }
   ],
   "source": [
    "print(type(df['A'])) # Each column of a DataFrame is a Series"
   ]
  },
  {
   "cell_type": "code",
   "execution_count": 8,
   "metadata": {},
   "outputs": [
    {
     "name": "stdout",
     "output_type": "stream",
     "text": [
      "0    1.102933\n",
      "1    0.590045\n",
      "2    0.684100\n",
      "3   -0.559076\n",
      "4   -0.171584\n",
      "5    0.741322\n",
      "Name: A, dtype: float64\n"
     ]
    }
   ],
   "source": [
    "print(df['A']) # Copy elements of column A, retaining the row indices"
   ]
  },
  {
   "cell_type": "code",
   "execution_count": 9,
   "metadata": {},
   "outputs": [
    {
     "name": "stdout",
     "output_type": "stream",
     "text": [
      "<class 'pandas.core.series.Series'>\n",
      "A    0.590045\n",
      "B   -0.420929\n",
      "C    0.945703\n",
      "D    1.962290\n",
      "Name: 1, dtype: float64\n"
     ]
    }
   ],
   "source": [
    "print(type(df.loc[1, :])) # Each row of a DataFrame is a Series\n",
    "print(df.loc[1, :]) # Copy row with index 1"
   ]
  },
  {
   "cell_type": "code",
   "execution_count": 10,
   "metadata": {},
   "outputs": [
    {
     "name": "stdout",
     "output_type": "stream",
     "text": [
      "0    1.102933\n",
      "1    0.590045\n",
      "2    0.684100\n",
      "3   -0.559076\n",
      "4   -0.171584\n",
      "5    0.741322\n",
      "Name: A, dtype: float64\n"
     ]
    }
   ],
   "source": [
    "print(df.A) # Column is accessed using name of column and the dot notation (provided column name has no spaces)"
   ]
  },
  {
   "cell_type": "code",
   "execution_count": 11,
   "metadata": {},
   "outputs": [
    {
     "name": "stdout",
     "output_type": "stream",
     "text": [
      "0.5900447924454416\n"
     ]
    }
   ],
   "source": [
    "print(df.A[1]) # Column A, row index 1"
   ]
  },
  {
   "cell_type": "code",
   "execution_count": 12,
   "metadata": {
    "scrolled": true
   },
   "outputs": [
    {
     "name": "stdout",
     "output_type": "stream",
     "text": [
      "          A         B         C         D\n",
      "0  1.102933  0.004014 -1.392061 -1.144745\n",
      "1  0.590045 -0.420929  0.945703  1.962290\n",
      "2  0.684100 -0.653912  1.431976 -0.900998\n"
     ]
    }
   ],
   "source": [
    "print(df.loc[0:2, :]) # 0:2 includes the stop index 2, unlike slicing in NumPy"
   ]
  },
  {
   "cell_type": "code",
   "execution_count": 13,
   "metadata": {},
   "outputs": [
    {
     "name": "stdout",
     "output_type": "stream",
     "text": [
      "   Column A  Column B  Column C  Column D\n",
      "0  1.102933  0.004014 -1.392061 -1.144745\n",
      "1  0.590045 -0.420929  0.945703  1.962290\n",
      "2  0.684100 -0.653912  1.431976 -0.900998\n"
     ]
    }
   ],
   "source": [
    "df.columns = ['Column A', 'Column B', 'Column C', 'Column D'] # Column names can be changed, and can contain spaces\n",
    "print(df.head(3))"
   ]
  },
  {
   "cell_type": "code",
   "execution_count": 14,
   "metadata": {},
   "outputs": [
    {
     "name": "stdout",
     "output_type": "stream",
     "text": [
      "0   -1.392061\n",
      "1    0.945703\n",
      "2    1.431976\n",
      "Name: Column C, dtype: float64\n"
     ]
    }
   ],
   "source": [
    "print(df['Column C'][0:3]) # Slicing follows normal Python rules in this case"
   ]
  },
  {
   "cell_type": "code",
   "execution_count": 15,
   "metadata": {},
   "outputs": [
    {
     "name": "stdout",
     "output_type": "stream",
     "text": [
      "   Column A  Column C\n",
      "0  1.102933 -1.392061\n",
      "1  0.590045  0.945703\n",
      "2  0.684100  1.431976\n"
     ]
    }
   ],
   "source": [
    "print(df[['Column A', 'Column C']][0:3]) # You can choose the columns and rows to copy"
   ]
  },
  {
   "cell_type": "code",
   "execution_count": 16,
   "metadata": {},
   "outputs": [
    {
     "name": "stdout",
     "output_type": "stream",
     "text": [
      "   Column D  Column A\n",
      "5 -1.002977  0.741322\n",
      "4 -1.587581 -0.171584\n",
      "3  0.014401 -0.559076\n"
     ]
    }
   ],
   "source": [
    "print(df[['Column D', 'Column A']][5:2:-1]) # Order of rows and columns can be chosen by user"
   ]
  },
  {
   "cell_type": "code",
   "execution_count": 17,
   "metadata": {},
   "outputs": [
    {
     "name": "stdout",
     "output_type": "stream",
     "text": [
      "0    0.008028\n",
      "1   -0.841858\n",
      "2   -1.307823\n",
      "3    1.127213\n",
      "4   -3.807087\n",
      "5    2.002198\n",
      "Name: Column B, dtype: float64\n"
     ]
    }
   ],
   "source": [
    "print(df['Column B'] * 2)"
   ]
  },
  {
   "cell_type": "code",
   "execution_count": 18,
   "metadata": {},
   "outputs": [
    {
     "name": "stdout",
     "output_type": "stream",
     "text": [
      "<class 'numpy.ndarray'>\n"
     ]
    }
   ],
   "source": [
    "print(type(df.to_numpy()))"
   ]
  },
  {
   "cell_type": "code",
   "execution_count": 19,
   "metadata": {},
   "outputs": [
    {
     "name": "stdout",
     "output_type": "stream",
     "text": [
      "[[ 1.10293289  0.00401405 -1.39206098 -1.14474462]\n",
      " [ 0.59004479 -0.42092884  0.94570298  1.96228952]\n",
      " [ 0.68409978 -0.65391167  1.43197645 -0.90099754]\n",
      " [-0.55907583  0.56360652 -0.60701377  0.01440117]\n",
      " [-0.1715836  -1.90354331  0.39001194 -1.58758127]\n",
      " [ 0.7413225   1.00109901  0.98995902 -1.00297743]]\n"
     ]
    }
   ],
   "source": [
    "print(df.to_numpy())"
   ]
  },
  {
   "cell_type": "code",
   "execution_count": 20,
   "metadata": {},
   "outputs": [
    {
     "name": "stdout",
     "output_type": "stream",
     "text": [
      "<PandasArray>\n",
      "[0, 1, 2, 3, 4, 5]\n",
      "Length: 6, dtype: int64\n"
     ]
    }
   ],
   "source": [
    "print(df.index.array)"
   ]
  },
  {
   "cell_type": "code",
   "execution_count": 21,
   "metadata": {},
   "outputs": [
    {
     "data": {
      "text/plain": [
       "<PandasArray>\n",
       "['Column A', 'Column B', 'Column C', 'Column D']\n",
       "Length: 4, dtype: object"
      ]
     },
     "execution_count": 21,
     "metadata": {},
     "output_type": "execute_result"
    }
   ],
   "source": [
    "df.columns.array"
   ]
  },
  {
   "cell_type": "markdown",
   "metadata": {},
   "source": []
  },
  {
   "cell_type": "markdown",
   "metadata": {},
   "source": [
    "## Boolean Operations"
   ]
  },
  {
   "cell_type": "code",
   "execution_count": 22,
   "metadata": {},
   "outputs": [
    {
     "name": "stdout",
     "output_type": "stream",
     "text": [
      "0     True\n",
      "1     True\n",
      "2     True\n",
      "3    False\n",
      "4    False\n",
      "5     True\n",
      "Name: A, dtype: bool\n"
     ]
    }
   ],
   "source": [
    "df.columns = list('ABCD')\n",
    "print(df.A > 0)"
   ]
  },
  {
   "cell_type": "code",
   "execution_count": 23,
   "metadata": {},
   "outputs": [
    {
     "data": {
      "text/html": [
       "<div>\n",
       "<style scoped>\n",
       "    .dataframe tbody tr th:only-of-type {\n",
       "        vertical-align: middle;\n",
       "    }\n",
       "\n",
       "    .dataframe tbody tr th {\n",
       "        vertical-align: top;\n",
       "    }\n",
       "\n",
       "    .dataframe thead th {\n",
       "        text-align: right;\n",
       "    }\n",
       "</style>\n",
       "<table border=\"1\" class=\"dataframe\">\n",
       "  <thead>\n",
       "    <tr style=\"text-align: right;\">\n",
       "      <th></th>\n",
       "      <th>A</th>\n",
       "      <th>B</th>\n",
       "      <th>C</th>\n",
       "      <th>D</th>\n",
       "    </tr>\n",
       "  </thead>\n",
       "  <tbody>\n",
       "    <tr>\n",
       "      <th>0</th>\n",
       "      <td>1.102933</td>\n",
       "      <td>0.004014</td>\n",
       "      <td>-1.392061</td>\n",
       "      <td>-1.144745</td>\n",
       "    </tr>\n",
       "    <tr>\n",
       "      <th>1</th>\n",
       "      <td>0.590045</td>\n",
       "      <td>-0.420929</td>\n",
       "      <td>0.945703</td>\n",
       "      <td>1.962290</td>\n",
       "    </tr>\n",
       "    <tr>\n",
       "      <th>2</th>\n",
       "      <td>0.684100</td>\n",
       "      <td>-0.653912</td>\n",
       "      <td>1.431976</td>\n",
       "      <td>-0.900998</td>\n",
       "    </tr>\n",
       "    <tr>\n",
       "      <th>5</th>\n",
       "      <td>0.741322</td>\n",
       "      <td>1.001099</td>\n",
       "      <td>0.989959</td>\n",
       "      <td>-1.002977</td>\n",
       "    </tr>\n",
       "  </tbody>\n",
       "</table>\n",
       "</div>"
      ],
      "text/plain": [
       "          A         B         C         D\n",
       "0  1.102933  0.004014 -1.392061 -1.144745\n",
       "1  0.590045 -0.420929  0.945703  1.962290\n",
       "2  0.684100 -0.653912  1.431976 -0.900998\n",
       "5  0.741322  1.001099  0.989959 -1.002977"
      ]
     },
     "execution_count": 23,
     "metadata": {},
     "output_type": "execute_result"
    }
   ],
   "source": [
    "df[df.A > 0]"
   ]
  },
  {
   "cell_type": "code",
   "execution_count": 24,
   "metadata": {},
   "outputs": [
    {
     "name": "stdout",
     "output_type": "stream",
     "text": [
      "Int64Index([0, 3, 5], dtype='int64')\n"
     ]
    }
   ],
   "source": [
    "indx = df[df.B > 0].index\n",
    "print(indx)"
   ]
  },
  {
   "cell_type": "code",
   "execution_count": 25,
   "metadata": {},
   "outputs": [
    {
     "data": {
      "text/html": [
       "<div>\n",
       "<style scoped>\n",
       "    .dataframe tbody tr th:only-of-type {\n",
       "        vertical-align: middle;\n",
       "    }\n",
       "\n",
       "    .dataframe tbody tr th {\n",
       "        vertical-align: top;\n",
       "    }\n",
       "\n",
       "    .dataframe thead th {\n",
       "        text-align: right;\n",
       "    }\n",
       "</style>\n",
       "<table border=\"1\" class=\"dataframe\">\n",
       "  <thead>\n",
       "    <tr style=\"text-align: right;\">\n",
       "      <th></th>\n",
       "      <th>B</th>\n",
       "      <th>D</th>\n",
       "    </tr>\n",
       "  </thead>\n",
       "  <tbody>\n",
       "    <tr>\n",
       "      <th>0</th>\n",
       "      <td>0.004014</td>\n",
       "      <td>-1.144745</td>\n",
       "    </tr>\n",
       "    <tr>\n",
       "      <th>3</th>\n",
       "      <td>0.563607</td>\n",
       "      <td>0.014401</td>\n",
       "    </tr>\n",
       "    <tr>\n",
       "      <th>5</th>\n",
       "      <td>1.001099</td>\n",
       "      <td>-1.002977</td>\n",
       "    </tr>\n",
       "  </tbody>\n",
       "</table>\n",
       "</div>"
      ],
      "text/plain": [
       "          B         D\n",
       "0  0.004014 -1.144745\n",
       "3  0.563607  0.014401\n",
       "5  1.001099 -1.002977"
      ]
     },
     "execution_count": 25,
     "metadata": {},
     "output_type": "execute_result"
    }
   ],
   "source": [
    "df.loc[indx, ['B', 'D']]"
   ]
  },
  {
   "cell_type": "code",
   "execution_count": 26,
   "metadata": {},
   "outputs": [
    {
     "name": "stdout",
     "output_type": "stream",
     "text": [
      "          A         B         C         D             E\n",
      "0  1.102933  0.004014 -1.392061 -1.144745      Positive\n",
      "1  0.590045 -0.420929  0.945703  1.962290  Non positive\n",
      "2  0.684100 -0.653912  1.431976 -0.900998  Non positive\n",
      "3 -0.559076  0.563607 -0.607014  0.014401      Positive\n",
      "4 -0.171584 -1.903543  0.390012 -1.587581  Non positive\n",
      "5  0.741322  1.001099  0.989959 -1.002977      Positive\n"
     ]
    }
   ],
   "source": [
    "df['E'] = 'Non positive' # Creates a new column E, and populates the column with Non positive\n",
    "df.loc[indx, 'E'] = 'Positive' # Overwrites column E of rows of with index in indx\n",
    "print(df)"
   ]
  },
  {
   "cell_type": "markdown",
   "metadata": {},
   "source": [
    "## Reading and Writing MS Excel and CSV Files\n",
    "\n",
    "Most data is available in one of several common formats, such as, CSV, MS Excel, HDF5, SQL. Pandas provides functions to read and write all such formats."
   ]
  },
  {
   "cell_type": "code",
   "execution_count": 32,
   "metadata": {},
   "outputs": [
    {
     "name": "stdout",
     "output_type": "stream",
     "text": [
      "PCA CDB-2901-F-Census.xlsx: 1323 records\n",
      "95 columns\n",
      "<PandasArray>\n",
      "[         'State',       'District',        'DT Name',       'CD Block',\n",
      "   'Town/Village',           'Ward',             'EB',          'Level',\n",
      "           'Name',            'TRU',          'No_HH',          'TOT_P',\n",
      "          'TOT_M',          'TOT_F',           'P_06',           'M_06',\n",
      "           'F_06',           'P_SC',           'M_SC',           'F_SC',\n",
      "           'P_ST',           'M_ST',           'F_ST',          'P_LIT',\n",
      "          'M_LIT',          'F_LIT',          'P_ILL',          'M_ILL',\n",
      "          'F_ILL',     'TOT_WORK_P',     'TOT_WORK_M',     'TOT_WORK_F',\n",
      "     'MAINWORK_P',     'MAINWORK_M',     'MAINWORK_F',      'MAIN_CL_P',\n",
      "      'MAIN_CL_M',      'MAIN_CL_F',      'MAIN_AL_P',      'MAIN_AL_M',\n",
      "      'MAIN_AL_F',      'MAIN_HH_P',      'MAIN_HH_M',      'MAIN_HH_F',\n",
      "      'MAIN_OT_P',      'MAIN_OT_M',      'MAIN_OT_F',     'MARGWORK_P',\n",
      "     'MARGWORK_M',     'MARGWORK_F',      'MARG_CL_P',      'MARG_CL_M',\n",
      "      'MARG_CL_F',      'MARG_AL_P',      'MARG_AL_M',      'MARG_AL_F',\n",
      "      'MARG_HH_P',      'MARG_HH_M',      'MARG_HH_F',      'MARG_OT_P',\n",
      "      'MARG_OT_M',      'MARG_OT_F', 'MARGWORK_3_6_P', 'MARGWORK_3_6_M',\n",
      " 'MARGWORK_3_6_F',  'MARG_CL_3_6_P',  'MARG_CL_3_6_M',  'MARG_CL_3_6_F',\n",
      "  'MARG_AL_3_6_P',  'MARG_AL_3_6_M',  'MARG_AL_3_6_F',  'MARG_HH_3_6_P',\n",
      "  'MARG_HH_3_6_M',  'MARG_HH_3_6_F',  'MARG_OT_3_6_P',  'MARG_OT_3_6_M',\n",
      "  'MARG_OT_3_6_F', 'MARGWORK_0_3_P', 'MARGWORK_0_3_M', 'MARGWORK_0_3_F',\n",
      "  'MARG_CL_0_3_P',  'MARG_CL_0_3_M',  'MARG_CL_0_3_F',  'MARG_AL_0_3_P',\n",
      "  'MARG_AL_0_3_M',  'MARG_AL_0_3_F',  'MARG_HH_0_3_P',  'MARG_HH_0_3_M',\n",
      "  'MARG_HH_0_3_F',  'MARG_OT_0_3_P',  'MARG_OT_0_3_M',  'MARG_OT_0_3_F',\n",
      "     'NON_WORK_P',     'NON_WORK_M',     'NON_WORK_F']\n",
      "Length: 95, dtype: object\n"
     ]
    }
   ],
   "source": [
    "fn = 'PCA CDB-2901-F-Census.xlsx'\n",
    "df_bgm = pd.read_excel(pd.ExcelFile(fn))\n",
    "print(f\"{fn}: {len(df_bgm)} records\")\n",
    "print(f\"{len(df_bgm.columns)} columns\")\n",
    "print(df_bgm.columns.array)"
   ]
  },
  {
   "cell_type": "code",
   "execution_count": 33,
   "metadata": {},
   "outputs": [
    {
     "name": "stdout",
     "output_type": "stream",
     "text": [
      "11168997 6751338 60.447128779782105\n",
      "6751338 3894327 2857011 0\n"
     ]
    }
   ],
   "source": [
    "p_tot = df_bgm['TOT_P'].sum()\n",
    "p_male = df_bgm['TOT_M'].sum()\n",
    "p_female = df_bgm['TOT_F'].sum()\n",
    "p_lit = df_bgm['P_LIT'].sum()\n",
    "p_litm = df_bgm['M_LIT'].sum()\n",
    "p_litf = df_bgm['F_LIT'].sum()\n",
    "p_scm = df_bgm['M_SC'].sum()\n",
    "p_scf = df_bgm['F_SC'].sum()\n",
    "print(p_tot, p_lit, p_lit * 100 / p_tot)\n",
    "print(p_lit, p_litm, p_litf, p_litm+p_litf-p_lit)"
   ]
  },
  {
   "cell_type": "code",
   "execution_count": 34,
   "metadata": {},
   "outputs": [
    {
     "name": "stdout",
     "output_type": "stream",
     "text": [
      "PCA CDB-2901-F-Census.xlsx: 625 records\n",
      "95 columns\n",
      "<PandasArray>\n",
      "[         'State',       'District',        'DT Name',       'CD Block',\n",
      "   'Town/Village',           'Ward',             'EB',          'Level',\n",
      "           'Name',            'TRU',          'No_HH',          'TOT_P',\n",
      "          'TOT_M',          'TOT_F',           'P_06',           'M_06',\n",
      "           'F_06',           'P_SC',           'M_SC',           'F_SC',\n",
      "           'P_ST',           'M_ST',           'F_ST',          'P_LIT',\n",
      "          'M_LIT',          'F_LIT',          'P_ILL',          'M_ILL',\n",
      "          'F_ILL',     'TOT_WORK_P',     'TOT_WORK_M',     'TOT_WORK_F',\n",
      "     'MAINWORK_P',     'MAINWORK_M',     'MAINWORK_F',      'MAIN_CL_P',\n",
      "      'MAIN_CL_M',      'MAIN_CL_F',      'MAIN_AL_P',      'MAIN_AL_M',\n",
      "      'MAIN_AL_F',      'MAIN_HH_P',      'MAIN_HH_M',      'MAIN_HH_F',\n",
      "      'MAIN_OT_P',      'MAIN_OT_M',      'MAIN_OT_F',     'MARGWORK_P',\n",
      "     'MARGWORK_M',     'MARGWORK_F',      'MARG_CL_P',      'MARG_CL_M',\n",
      "      'MARG_CL_F',      'MARG_AL_P',      'MARG_AL_M',      'MARG_AL_F',\n",
      "      'MARG_HH_P',      'MARG_HH_M',      'MARG_HH_F',      'MARG_OT_P',\n",
      "      'MARG_OT_M',      'MARG_OT_F', 'MARGWORK_3_6_P', 'MARGWORK_3_6_M',\n",
      " 'MARGWORK_3_6_F',  'MARG_CL_3_6_P',  'MARG_CL_3_6_M',  'MARG_CL_3_6_F',\n",
      "  'MARG_AL_3_6_P',  'MARG_AL_3_6_M',  'MARG_AL_3_6_F',  'MARG_HH_3_6_P',\n",
      "  'MARG_HH_3_6_M',  'MARG_HH_3_6_F',  'MARG_OT_3_6_P',  'MARG_OT_3_6_M',\n",
      "  'MARG_OT_3_6_F', 'MARGWORK_0_3_P', 'MARGWORK_0_3_M', 'MARGWORK_0_3_F',\n",
      "  'MARG_CL_0_3_P',  'MARG_CL_0_3_M',  'MARG_CL_0_3_F',  'MARG_AL_0_3_P',\n",
      "  'MARG_AL_0_3_M',  'MARG_AL_0_3_F',  'MARG_HH_0_3_P',  'MARG_HH_0_3_M',\n",
      "  'MARG_HH_0_3_F',  'MARG_OT_0_3_P',  'MARG_OT_0_3_M',  'MARG_OT_0_3_F',\n",
      "     'NON_WORK_P',     'NON_WORK_M',     'NON_WORK_F']\n",
      "Length: 95, dtype: object\n"
     ]
    }
   ],
   "source": [
    "df_blr = pd.read_excel(pd.ExcelFile('PCA CDB-2918-F-Census.xlsx'))\n",
    "print(f\"{fn}: {len(df_blr)} records\")\n",
    "print(f\"{len(df_blr.columns)} columns\")\n",
    "print(df_blr.columns.array)"
   ]
  },
  {
   "cell_type": "code",
   "execution_count": 35,
   "metadata": {},
   "outputs": [
    {
     "name": "stdout",
     "output_type": "stream",
     "text": [
      "9742\n",
      "<class 'pandas.core.frame.DataFrame'>\n",
      "RangeIndex: 9742 entries, 0 to 9741\n",
      "Data columns (total 3 columns):\n",
      "movieId    9742 non-null int64\n",
      "title      9742 non-null object\n",
      "genres     9742 non-null object\n",
      "dtypes: int64(1), object(2)\n",
      "memory usage: 228.5+ KB\n"
     ]
    }
   ],
   "source": [
    "movies = pd.read_csv('ml-latest-small/movies.csv')\n",
    "print(len(movies))\n",
    "movies.info()"
   ]
  },
  {
   "cell_type": "code",
   "execution_count": 36,
   "metadata": {},
   "outputs": [
    {
     "name": "stdout",
     "output_type": "stream",
     "text": [
      "<class 'pandas.core.frame.DataFrame'>\n",
      "RangeIndex: 100836 entries, 0 to 100835\n",
      "Data columns (total 4 columns):\n",
      "userId       100836 non-null int64\n",
      "movieId      100836 non-null int64\n",
      "rating       100836 non-null float64\n",
      "timestamp    100836 non-null int64\n",
      "dtypes: float64(1), int64(3)\n",
      "memory usage: 3.1 MB\n"
     ]
    }
   ],
   "source": [
    "ratings = pd.read_csv('ml-latest-small/ratings.csv')\n",
    "ratings.info()"
   ]
  },
  {
   "cell_type": "code",
   "execution_count": 37,
   "metadata": {
    "scrolled": true
   },
   "outputs": [
    {
     "name": "stdout",
     "output_type": "stream",
     "text": [
      "<class 'pandas.core.frame.DataFrame'>\n",
      "RangeIndex: 9742 entries, 0 to 9741\n",
      "Data columns (total 3 columns):\n",
      "movieId    9742 non-null int64\n",
      "imdbId     9742 non-null int64\n",
      "tmdbId     9734 non-null float64\n",
      "dtypes: float64(1), int64(2)\n",
      "memory usage: 228.5 KB\n"
     ]
    }
   ],
   "source": [
    "links = pd.read_csv('ml-latest-small/links.csv')\n",
    "links.info()"
   ]
  },
  {
   "cell_type": "code",
   "execution_count": 38,
   "metadata": {},
   "outputs": [
    {
     "name": "stdout",
     "output_type": "stream",
     "text": [
      "<class 'pandas.core.frame.DataFrame'>\n",
      "RangeIndex: 3683 entries, 0 to 3682\n",
      "Data columns (total 4 columns):\n",
      "userId       3683 non-null int64\n",
      "movieId      3683 non-null int64\n",
      "tag          3683 non-null object\n",
      "timestamp    3683 non-null int64\n",
      "dtypes: int64(3), object(1)\n",
      "memory usage: 115.2+ KB\n"
     ]
    }
   ],
   "source": [
    "tags = pd.read_csv('ml-latest-small/tags.csv')\n",
    "tags.info()"
   ]
  },
  {
   "cell_type": "code",
   "execution_count": 39,
   "metadata": {},
   "outputs": [
    {
     "data": {
      "text/html": [
       "<div>\n",
       "<style scoped>\n",
       "    .dataframe tbody tr th:only-of-type {\n",
       "        vertical-align: middle;\n",
       "    }\n",
       "\n",
       "    .dataframe tbody tr th {\n",
       "        vertical-align: top;\n",
       "    }\n",
       "\n",
       "    .dataframe thead th {\n",
       "        text-align: right;\n",
       "    }\n",
       "</style>\n",
       "<table border=\"1\" class=\"dataframe\">\n",
       "  <thead>\n",
       "    <tr style=\"text-align: right;\">\n",
       "      <th></th>\n",
       "      <th>movieId</th>\n",
       "      <th>title</th>\n",
       "      <th>genres</th>\n",
       "      <th>imdbId</th>\n",
       "      <th>tmdbId</th>\n",
       "    </tr>\n",
       "  </thead>\n",
       "  <tbody>\n",
       "    <tr>\n",
       "      <th>0</th>\n",
       "      <td>1</td>\n",
       "      <td>Toy Story (1995)</td>\n",
       "      <td>Adventure|Animation|Children|Comedy|Fantasy</td>\n",
       "      <td>114709</td>\n",
       "      <td>862.0</td>\n",
       "    </tr>\n",
       "    <tr>\n",
       "      <th>1</th>\n",
       "      <td>2</td>\n",
       "      <td>Jumanji (1995)</td>\n",
       "      <td>Adventure|Children|Fantasy</td>\n",
       "      <td>113497</td>\n",
       "      <td>8844.0</td>\n",
       "    </tr>\n",
       "    <tr>\n",
       "      <th>2</th>\n",
       "      <td>3</td>\n",
       "      <td>Grumpier Old Men (1995)</td>\n",
       "      <td>Comedy|Romance</td>\n",
       "      <td>113228</td>\n",
       "      <td>15602.0</td>\n",
       "    </tr>\n",
       "    <tr>\n",
       "      <th>3</th>\n",
       "      <td>4</td>\n",
       "      <td>Waiting to Exhale (1995)</td>\n",
       "      <td>Comedy|Drama|Romance</td>\n",
       "      <td>114885</td>\n",
       "      <td>31357.0</td>\n",
       "    </tr>\n",
       "    <tr>\n",
       "      <th>4</th>\n",
       "      <td>5</td>\n",
       "      <td>Father of the Bride Part II (1995)</td>\n",
       "      <td>Comedy</td>\n",
       "      <td>113041</td>\n",
       "      <td>11862.0</td>\n",
       "    </tr>\n",
       "  </tbody>\n",
       "</table>\n",
       "</div>"
      ],
      "text/plain": [
       "   movieId                               title  \\\n",
       "0        1                    Toy Story (1995)   \n",
       "1        2                      Jumanji (1995)   \n",
       "2        3             Grumpier Old Men (1995)   \n",
       "3        4            Waiting to Exhale (1995)   \n",
       "4        5  Father of the Bride Part II (1995)   \n",
       "\n",
       "                                        genres  imdbId   tmdbId  \n",
       "0  Adventure|Animation|Children|Comedy|Fantasy  114709    862.0  \n",
       "1                   Adventure|Children|Fantasy  113497   8844.0  \n",
       "2                               Comedy|Romance  113228  15602.0  \n",
       "3                         Comedy|Drama|Romance  114885  31357.0  \n",
       "4                                       Comedy  113041  11862.0  "
      ]
     },
     "execution_count": 39,
     "metadata": {},
     "output_type": "execute_result"
    }
   ],
   "source": [
    "m = pd.merge(movies, links, on='movieId', how='inner')\n",
    "m.head()"
   ]
  },
  {
   "cell_type": "code",
   "execution_count": 40,
   "metadata": {},
   "outputs": [
    {
     "data": {
      "text/plain": [
       "629     pixar\n",
       "981     pixar\n",
       "2886      fun\n",
       "Name: tag, dtype: object"
      ]
     },
     "execution_count": 40,
     "metadata": {},
     "output_type": "execute_result"
    }
   ],
   "source": [
    "tags[tags['movieId']==1]['tag']"
   ]
  },
  {
   "cell_type": "code",
   "execution_count": 41,
   "metadata": {},
   "outputs": [],
   "source": [
    "mean_ratings = ratings.groupby('movieId', as_index=False)['rating'].mean()"
   ]
  },
  {
   "cell_type": "code",
   "execution_count": 42,
   "metadata": {
    "scrolled": true
   },
   "outputs": [],
   "source": [
    "m = m.merge(mean_ratings, on='movieId', how='inner')"
   ]
  },
  {
   "cell_type": "code",
   "execution_count": 43,
   "metadata": {
    "scrolled": true
   },
   "outputs": [
    {
     "data": {
      "text/html": [
       "<div>\n",
       "<style scoped>\n",
       "    .dataframe tbody tr th:only-of-type {\n",
       "        vertical-align: middle;\n",
       "    }\n",
       "\n",
       "    .dataframe tbody tr th {\n",
       "        vertical-align: top;\n",
       "    }\n",
       "\n",
       "    .dataframe thead th {\n",
       "        text-align: right;\n",
       "    }\n",
       "</style>\n",
       "<table border=\"1\" class=\"dataframe\">\n",
       "  <thead>\n",
       "    <tr style=\"text-align: right;\">\n",
       "      <th></th>\n",
       "      <th>movieId</th>\n",
       "      <th>title</th>\n",
       "      <th>genres</th>\n",
       "      <th>imdbId</th>\n",
       "      <th>tmdbId</th>\n",
       "      <th>rating</th>\n",
       "    </tr>\n",
       "  </thead>\n",
       "  <tbody>\n",
       "    <tr>\n",
       "      <th>7638</th>\n",
       "      <td>88448</td>\n",
       "      <td>Paper Birds (Pájaros de papel) (2010)</td>\n",
       "      <td>Comedy|Drama</td>\n",
       "      <td>1360822</td>\n",
       "      <td>50004.0</td>\n",
       "      <td>5.0</td>\n",
       "    </tr>\n",
       "    <tr>\n",
       "      <th>8089</th>\n",
       "      <td>100556</td>\n",
       "      <td>Act of Killing, The (2012)</td>\n",
       "      <td>Documentary</td>\n",
       "      <td>2375605</td>\n",
       "      <td>123678.0</td>\n",
       "      <td>5.0</td>\n",
       "    </tr>\n",
       "    <tr>\n",
       "      <th>9065</th>\n",
       "      <td>143031</td>\n",
       "      <td>Jump In! (2007)</td>\n",
       "      <td>Comedy|Drama|Romance</td>\n",
       "      <td>805559</td>\n",
       "      <td>13968.0</td>\n",
       "      <td>5.0</td>\n",
       "    </tr>\n",
       "    <tr>\n",
       "      <th>9076</th>\n",
       "      <td>143511</td>\n",
       "      <td>Human (2015)</td>\n",
       "      <td>Documentary</td>\n",
       "      <td>3327994</td>\n",
       "      <td>359364.0</td>\n",
       "      <td>5.0</td>\n",
       "    </tr>\n",
       "    <tr>\n",
       "      <th>9078</th>\n",
       "      <td>143559</td>\n",
       "      <td>L.A. Slasher (2015)</td>\n",
       "      <td>Comedy|Crime|Fantasy</td>\n",
       "      <td>2735292</td>\n",
       "      <td>323792.0</td>\n",
       "      <td>5.0</td>\n",
       "    </tr>\n",
       "    <tr>\n",
       "      <th>...</th>\n",
       "      <td>...</td>\n",
       "      <td>...</td>\n",
       "      <td>...</td>\n",
       "      <td>...</td>\n",
       "      <td>...</td>\n",
       "      <td>...</td>\n",
       "    </tr>\n",
       "    <tr>\n",
       "      <th>9253</th>\n",
       "      <td>157172</td>\n",
       "      <td>Wizards of the Lost Kingdom II (1989)</td>\n",
       "      <td>Action|Fantasy</td>\n",
       "      <td>90334</td>\n",
       "      <td>7237.0</td>\n",
       "      <td>0.5</td>\n",
       "    </tr>\n",
       "    <tr>\n",
       "      <th>7536</th>\n",
       "      <td>85334</td>\n",
       "      <td>Hard Ticket to Hawaii (1987)</td>\n",
       "      <td>Action|Comedy</td>\n",
       "      <td>93146</td>\n",
       "      <td>26011.0</td>\n",
       "      <td>0.5</td>\n",
       "    </tr>\n",
       "    <tr>\n",
       "      <th>6486</th>\n",
       "      <td>53453</td>\n",
       "      <td>Starcrash (a.k.a. Star Crash) (1978)</td>\n",
       "      <td>Action|Adventure|Fantasy|Sci-Fi</td>\n",
       "      <td>79946</td>\n",
       "      <td>22049.0</td>\n",
       "      <td>0.5</td>\n",
       "    </tr>\n",
       "    <tr>\n",
       "      <th>5200</th>\n",
       "      <td>8494</td>\n",
       "      <td>Cincinnati Kid, The (1965)</td>\n",
       "      <td>Drama</td>\n",
       "      <td>59037</td>\n",
       "      <td>886.0</td>\n",
       "      <td>0.5</td>\n",
       "    </tr>\n",
       "    <tr>\n",
       "      <th>7145</th>\n",
       "      <td>71810</td>\n",
       "      <td>Legionnaire (1998)</td>\n",
       "      <td>Action|Adventure|Drama|War</td>\n",
       "      <td>126388</td>\n",
       "      <td>3513.0</td>\n",
       "      <td>0.5</td>\n",
       "    </tr>\n",
       "  </tbody>\n",
       "</table>\n",
       "<p>9724 rows × 6 columns</p>\n",
       "</div>"
      ],
      "text/plain": [
       "      movieId                                  title  \\\n",
       "7638    88448  Paper Birds (Pájaros de papel) (2010)   \n",
       "8089   100556             Act of Killing, The (2012)   \n",
       "9065   143031                        Jump In! (2007)   \n",
       "9076   143511                           Human (2015)   \n",
       "9078   143559                    L.A. Slasher (2015)   \n",
       "...       ...                                    ...   \n",
       "9253   157172  Wizards of the Lost Kingdom II (1989)   \n",
       "7536    85334           Hard Ticket to Hawaii (1987)   \n",
       "6486    53453   Starcrash (a.k.a. Star Crash) (1978)   \n",
       "5200     8494             Cincinnati Kid, The (1965)   \n",
       "7145    71810                     Legionnaire (1998)   \n",
       "\n",
       "                               genres   imdbId    tmdbId  rating  \n",
       "7638                     Comedy|Drama  1360822   50004.0     5.0  \n",
       "8089                      Documentary  2375605  123678.0     5.0  \n",
       "9065             Comedy|Drama|Romance   805559   13968.0     5.0  \n",
       "9076                      Documentary  3327994  359364.0     5.0  \n",
       "9078             Comedy|Crime|Fantasy  2735292  323792.0     5.0  \n",
       "...                               ...      ...       ...     ...  \n",
       "9253                   Action|Fantasy    90334    7237.0     0.5  \n",
       "7536                    Action|Comedy    93146   26011.0     0.5  \n",
       "6486  Action|Adventure|Fantasy|Sci-Fi    79946   22049.0     0.5  \n",
       "5200                            Drama    59037     886.0     0.5  \n",
       "7145       Action|Adventure|Drama|War   126388    3513.0     0.5  \n",
       "\n",
       "[9724 rows x 6 columns]"
      ]
     },
     "execution_count": 43,
     "metadata": {},
     "output_type": "execute_result"
    }
   ],
   "source": [
    "m.sort_values(['rating'], ascending=False)"
   ]
  },
  {
   "cell_type": "markdown",
   "metadata": {},
   "source": [
    "## pandasql\n",
    "\n",
    "pandasql is a Python package that allows "
   ]
  },
  {
   "cell_type": "code",
   "execution_count": 47,
   "metadata": {},
   "outputs": [
    {
     "name": "stdout",
     "output_type": "stream",
     "text": [
      "<class 'pandas.core.frame.DataFrame'>\n",
      "      movieId                                      title  \\\n",
      "0           1                           Toy Story (1995)   \n",
      "1           2                             Jumanji (1995)   \n",
      "2           3                    Grumpier Old Men (1995)   \n",
      "3           4                   Waiting to Exhale (1995)   \n",
      "4           5         Father of the Bride Part II (1995)   \n",
      "...       ...                                        ...   \n",
      "9737   193581  Black Butler: Book of the Atlantic (2017)   \n",
      "9738   193583               No Game No Life: Zero (2017)   \n",
      "9739   193585                               Flint (2017)   \n",
      "9740   193587        Bungo Stray Dogs: Dead Apple (2018)   \n",
      "9741   193609        Andrew Dice Clay: Dice Rules (1991)   \n",
      "\n",
      "                                           genres  \n",
      "0     Adventure|Animation|Children|Comedy|Fantasy  \n",
      "1                      Adventure|Children|Fantasy  \n",
      "2                                  Comedy|Romance  \n",
      "3                            Comedy|Drama|Romance  \n",
      "4                                          Comedy  \n",
      "...                                           ...  \n",
      "9737              Action|Animation|Comedy|Fantasy  \n",
      "9738                     Animation|Comedy|Fantasy  \n",
      "9739                                        Drama  \n",
      "9740                             Action|Animation  \n",
      "9741                                       Comedy  \n",
      "\n",
      "[9742 rows x 3 columns]\n"
     ]
    }
   ],
   "source": [
    "from pandasql import sqldf\n",
    "\n",
    "pysqldf = lambda q: sqldf(q, globals())\n",
    "\n",
    "res = pysqldf('SELECT * FROM movies')\n",
    "print(type(res))\n",
    "print(res)"
   ]
  },
  {
   "cell_type": "markdown",
   "metadata": {},
   "source": [
    "# References\n",
    "* [Official Pandas tutorials](https://pandas.pydata.org/pandas-docs/stable/getting_started/tutorials.html)\n",
    "* [10 minutes to pandas](https://pandas.pydata.org/pandas-docs/stable/getting_started/10min.html#min)\n",
    "* [Intro to pandas data structures by Greg Reda](http://www.gregreda.com/2013/10/26/intro-to-pandas-data-structures/)\n",
    "* [pandasql](https://github.com/yhat/pandasql/)"
   ]
  }
 ],
 "metadata": {
  "kernelspec": {
   "display_name": "Python 3",
   "language": "python",
   "name": "python3"
  },
  "language_info": {
   "codemirror_mode": {
    "name": "ipython",
    "version": 3
   },
   "file_extension": ".py",
   "mimetype": "text/x-python",
   "name": "python",
   "nbconvert_exporter": "python",
   "pygments_lexer": "ipython3",
   "version": "3.7.6"
  }
 },
 "nbformat": 4,
 "nbformat_minor": 2
}
