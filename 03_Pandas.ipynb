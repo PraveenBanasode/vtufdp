{
 "cells": [
  {
   "cell_type": "markdown",
   "metadata": {},
   "source": [
    "# Pandas\n",
    "\n",
    "Pandas provides **Series** and **DataFrame** data structures to Python in addition to data input/output functions, basic data analysis tools, utilities and plotting capabilities. It builds on top of NumPy ndarray. Pandas is squished form of **Panel Data Structure**. Pandas is primarily used for data munging and preparation but also provides some data analysis tools. Pandas does not implement any significant modeling functionality other than simple linear and panel regression. For these, you can use statsmodels and scikit-learn which build on top of the DataFrame data structure."
   ]
  },
  {
   "cell_type": "code",
   "execution_count": 1,
   "metadata": {},
   "outputs": [
    {
     "name": "stdout",
     "output_type": "stream",
     "text": [
      "0    1.0\n",
      "1    3.0\n",
      "2    5.0\n",
      "3    NaN\n",
      "4    6.0\n",
      "5    8.0\n",
      "dtype: float64\n"
     ]
    }
   ],
   "source": [
    "import numpy as np\n",
    "import pandas as pd\n",
    "\n",
    "s = pd.Series([1, 3, 5, np.nan, 6, 8])\n",
    "print(s)"
   ]
  },
  {
   "cell_type": "code",
   "execution_count": 2,
   "metadata": {},
   "outputs": [
    {
     "name": "stdout",
     "output_type": "stream",
     "text": [
      "          A         B         C         D\n",
      "0  0.934879 -0.134213  0.091423 -0.782324\n",
      "1  1.811006  0.182170  0.015382 -2.310417\n",
      "2  0.242163  1.837682  1.799558  0.478310\n",
      "3 -0.049324  0.079400  0.613973  0.728616\n",
      "4  0.093288  0.776683  0.331441 -0.500431\n",
      "5 -0.061561  0.412056 -0.355617  0.244264\n"
     ]
    }
   ],
   "source": [
    "data = np.random.randn(6, 4)\n",
    "df = pd.DataFrame(data, columns=list('ABCD'))\n",
    "print(df)"
   ]
  },
  {
   "cell_type": "markdown",
   "metadata": {},
   "source": [
    "## Properties of DataFrame"
   ]
  },
  {
   "cell_type": "code",
   "execution_count": 3,
   "metadata": {},
   "outputs": [
    {
     "name": "stdout",
     "output_type": "stream",
     "text": [
      "Shape: (6, 4)\n",
      "Data Types: A    float64\n",
      "B    float64\n",
      "C    float64\n",
      "D    float64\n",
      "dtype: object\n",
      "Column Labels: Index(['A', 'B', 'C', 'D'], dtype='object')\n",
      "RangeIndex(start=0, stop=6, step=1)\n"
     ]
    }
   ],
   "source": [
    "print('Shape:', df.shape)\n",
    "print('Data Types:', df.dtypes)\n",
    "print('Column Labels:', df.columns)\n",
    "print(df.index)"
   ]
  },
  {
   "cell_type": "code",
   "execution_count": 4,
   "metadata": {},
   "outputs": [
    {
     "name": "stdout",
     "output_type": "stream",
     "text": [
      "          A         B         C         D\n",
      "0  0.934879 -0.134213  0.091423 -0.782324\n",
      "1  1.811006  0.182170  0.015382 -2.310417\n",
      "2  0.242163  1.837682  1.799558  0.478310\n",
      "3 -0.049324  0.079400  0.613973  0.728616\n",
      "4  0.093288  0.776683  0.331441 -0.500431\n"
     ]
    }
   ],
   "source": [
    "print(df.head())"
   ]
  },
  {
   "cell_type": "code",
   "execution_count": 5,
   "metadata": {},
   "outputs": [
    {
     "name": "stdout",
     "output_type": "stream",
     "text": [
      "          A         B         C         D\n",
      "1  1.811006  0.182170  0.015382 -2.310417\n",
      "2  0.242163  1.837682  1.799558  0.478310\n",
      "3 -0.049324  0.079400  0.613973  0.728616\n",
      "4  0.093288  0.776683  0.331441 -0.500431\n",
      "5 -0.061561  0.412056 -0.355617  0.244264\n"
     ]
    }
   ],
   "source": [
    "print(df.tail())"
   ]
  },
  {
   "cell_type": "code",
   "execution_count": 6,
   "metadata": {},
   "outputs": [
    {
     "name": "stdout",
     "output_type": "stream",
     "text": [
      "          A         B         C         D\n",
      "0  0.934879 -0.134213  0.091423 -0.782324\n",
      "1  1.811006  0.182170  0.015382 -2.310417\n",
      "2  0.242163  1.837682  1.799558  0.478310\n"
     ]
    }
   ],
   "source": [
    "print(df.head(3))"
   ]
  },
  {
   "cell_type": "markdown",
   "metadata": {},
   "source": [
    "## Indexing and Slicing DataFrame"
   ]
  },
  {
   "cell_type": "code",
   "execution_count": 7,
   "metadata": {},
   "outputs": [
    {
     "name": "stdout",
     "output_type": "stream",
     "text": [
      "<class 'pandas.core.series.Series'>\n"
     ]
    }
   ],
   "source": [
    "print(type(df['A'])) # Each column of a DataFrame is a Series"
   ]
  },
  {
   "cell_type": "code",
   "execution_count": 8,
   "metadata": {},
   "outputs": [
    {
     "name": "stdout",
     "output_type": "stream",
     "text": [
      "0    0.934879\n",
      "1    1.811006\n",
      "2    0.242163\n",
      "3   -0.049324\n",
      "4    0.093288\n",
      "5   -0.061561\n",
      "Name: A, dtype: float64\n"
     ]
    }
   ],
   "source": [
    "print(df['A']) # Copy elements of column A, retaining the row indices"
   ]
  },
  {
   "cell_type": "code",
   "execution_count": 9,
   "metadata": {},
   "outputs": [
    {
     "name": "stdout",
     "output_type": "stream",
     "text": [
      "<class 'pandas.core.series.Series'>\n",
      "A    1.811006\n",
      "B    0.182170\n",
      "C    0.015382\n",
      "D   -2.310417\n",
      "Name: 1, dtype: float64\n"
     ]
    }
   ],
   "source": [
    "print(type(df.loc[1, :])) # Each row of a DataFrame is a Series\n",
    "print(df.loc[1, :]) # Copy row with index 1"
   ]
  },
  {
   "cell_type": "code",
   "execution_count": 10,
   "metadata": {},
   "outputs": [
    {
     "name": "stdout",
     "output_type": "stream",
     "text": [
      "0    0.934879\n",
      "1    1.811006\n",
      "2    0.242163\n",
      "3   -0.049324\n",
      "4    0.093288\n",
      "5   -0.061561\n",
      "Name: A, dtype: float64\n"
     ]
    }
   ],
   "source": [
    "print(df.A) # Column is accessed using name of column and the dot notation (provided column name has no spaces)"
   ]
  },
  {
   "cell_type": "code",
   "execution_count": 11,
   "metadata": {},
   "outputs": [
    {
     "name": "stdout",
     "output_type": "stream",
     "text": [
      "1.8110056126414085\n"
     ]
    }
   ],
   "source": [
    "print(df.A[1]) # Column A, row index 1"
   ]
  },
  {
   "cell_type": "code",
   "execution_count": 12,
   "metadata": {
    "scrolled": true
   },
   "outputs": [
    {
     "name": "stdout",
     "output_type": "stream",
     "text": [
      "          A         B         C         D\n",
      "0  0.934879 -0.134213  0.091423 -0.782324\n",
      "1  1.811006  0.182170  0.015382 -2.310417\n",
      "2  0.242163  1.837682  1.799558  0.478310\n"
     ]
    }
   ],
   "source": [
    "print(df.loc[0:2, :]) # 0:2 includes the stop index 2, unlike slicing in NumPy"
   ]
  },
  {
   "cell_type": "code",
   "execution_count": 13,
   "metadata": {},
   "outputs": [
    {
     "name": "stdout",
     "output_type": "stream",
     "text": [
      "   Column A  Column B  Column C  Column D\n",
      "0  0.934879 -0.134213  0.091423 -0.782324\n",
      "1  1.811006  0.182170  0.015382 -2.310417\n",
      "2  0.242163  1.837682  1.799558  0.478310\n"
     ]
    }
   ],
   "source": [
    "df.columns = ['Column A', 'Column B', 'Column C', 'Column D'] # Column names can be changed, and can contain spaces\n",
    "print(df.head(3))"
   ]
  },
  {
   "cell_type": "code",
   "execution_count": 14,
   "metadata": {},
   "outputs": [
    {
     "name": "stdout",
     "output_type": "stream",
     "text": [
      "0    0.091423\n",
      "1    0.015382\n",
      "2    1.799558\n",
      "Name: Column C, dtype: float64\n"
     ]
    }
   ],
   "source": [
    "print(df['Column C'][0:3]) # Slicing follows normal Python rules in this case"
   ]
  },
  {
   "cell_type": "code",
   "execution_count": 15,
   "metadata": {},
   "outputs": [
    {
     "name": "stdout",
     "output_type": "stream",
     "text": [
      "   Column A  Column C\n",
      "0  0.934879  0.091423\n",
      "1  1.811006  0.015382\n",
      "2  0.242163  1.799558\n"
     ]
    }
   ],
   "source": [
    "print(df[['Column A', 'Column C']][0:3]) # You can choose the columns and rows to copy"
   ]
  },
  {
   "cell_type": "code",
   "execution_count": 16,
   "metadata": {},
   "outputs": [
    {
     "name": "stdout",
     "output_type": "stream",
     "text": [
      "   Column D  Column A\n",
      "5  0.244264 -0.061561\n",
      "4 -0.500431  0.093288\n",
      "3  0.728616 -0.049324\n"
     ]
    }
   ],
   "source": [
    "print(df[['Column D', 'Column A']][5:2:-1]) # Order of rows and columns can be chosen by user"
   ]
  },
  {
   "cell_type": "code",
   "execution_count": 17,
   "metadata": {},
   "outputs": [
    {
     "name": "stdout",
     "output_type": "stream",
     "text": [
      "0   -0.268425\n",
      "1    0.364340\n",
      "2    3.675365\n",
      "3    0.158800\n",
      "4    1.553367\n",
      "5    0.824112\n",
      "Name: Column B, dtype: float64\n"
     ]
    }
   ],
   "source": [
    "print(df['Column B'] * 2)"
   ]
  },
  {
   "cell_type": "code",
   "execution_count": 18,
   "metadata": {},
   "outputs": [
    {
     "name": "stdout",
     "output_type": "stream",
     "text": [
      "<class 'numpy.ndarray'>\n"
     ]
    }
   ],
   "source": [
    "print(type(df.to_numpy()))"
   ]
  },
  {
   "cell_type": "code",
   "execution_count": 19,
   "metadata": {},
   "outputs": [
    {
     "name": "stdout",
     "output_type": "stream",
     "text": [
      "[[ 0.93487854 -0.13421273  0.09142278 -0.78232389]\n",
      " [ 1.81100561  0.18217004  0.0153821  -2.31041697]\n",
      " [ 0.24216259  1.83768236  1.79955793  0.47831045]\n",
      " [-0.04932415  0.07939982  0.61397325  0.72861638]\n",
      " [ 0.09328816  0.77668344  0.33144123 -0.50043096]\n",
      " [-0.06156113  0.41205597 -0.35561666  0.24426424]]\n"
     ]
    }
   ],
   "source": [
    "print(df.to_numpy())"
   ]
  },
  {
   "cell_type": "code",
   "execution_count": 20,
   "metadata": {},
   "outputs": [
    {
     "name": "stdout",
     "output_type": "stream",
     "text": [
      "<PandasArray>\n",
      "[0, 1, 2, 3, 4, 5]\n",
      "Length: 6, dtype: int64\n"
     ]
    }
   ],
   "source": [
    "print(df.index.array)"
   ]
  },
  {
   "cell_type": "code",
   "execution_count": 21,
   "metadata": {},
   "outputs": [
    {
     "data": {
      "text/plain": [
       "<PandasArray>\n",
       "['Column A', 'Column B', 'Column C', 'Column D']\n",
       "Length: 4, dtype: object"
      ]
     },
     "execution_count": 21,
     "metadata": {},
     "output_type": "execute_result"
    }
   ],
   "source": [
    "df.columns.array"
   ]
  },
  {
   "cell_type": "markdown",
   "metadata": {},
   "source": []
  },
  {
   "cell_type": "markdown",
   "metadata": {},
   "source": [
    "## Boolean Operations"
   ]
  },
  {
   "cell_type": "code",
   "execution_count": 22,
   "metadata": {},
   "outputs": [
    {
     "name": "stdout",
     "output_type": "stream",
     "text": [
      "0     True\n",
      "1     True\n",
      "2     True\n",
      "3    False\n",
      "4     True\n",
      "5    False\n",
      "Name: A, dtype: bool\n"
     ]
    }
   ],
   "source": [
    "df.columns = list('ABCD')\n",
    "print(df.A > 0)"
   ]
  },
  {
   "cell_type": "code",
   "execution_count": 23,
   "metadata": {},
   "outputs": [
    {
     "data": {
      "text/html": [
       "<div>\n",
       "<style scoped>\n",
       "    .dataframe tbody tr th:only-of-type {\n",
       "        vertical-align: middle;\n",
       "    }\n",
       "\n",
       "    .dataframe tbody tr th {\n",
       "        vertical-align: top;\n",
       "    }\n",
       "\n",
       "    .dataframe thead th {\n",
       "        text-align: right;\n",
       "    }\n",
       "</style>\n",
       "<table border=\"1\" class=\"dataframe\">\n",
       "  <thead>\n",
       "    <tr style=\"text-align: right;\">\n",
       "      <th></th>\n",
       "      <th>A</th>\n",
       "      <th>B</th>\n",
       "      <th>C</th>\n",
       "      <th>D</th>\n",
       "    </tr>\n",
       "  </thead>\n",
       "  <tbody>\n",
       "    <tr>\n",
       "      <th>0</th>\n",
       "      <td>0.934879</td>\n",
       "      <td>-0.134213</td>\n",
       "      <td>0.091423</td>\n",
       "      <td>-0.782324</td>\n",
       "    </tr>\n",
       "    <tr>\n",
       "      <th>1</th>\n",
       "      <td>1.811006</td>\n",
       "      <td>0.182170</td>\n",
       "      <td>0.015382</td>\n",
       "      <td>-2.310417</td>\n",
       "    </tr>\n",
       "    <tr>\n",
       "      <th>2</th>\n",
       "      <td>0.242163</td>\n",
       "      <td>1.837682</td>\n",
       "      <td>1.799558</td>\n",
       "      <td>0.478310</td>\n",
       "    </tr>\n",
       "    <tr>\n",
       "      <th>4</th>\n",
       "      <td>0.093288</td>\n",
       "      <td>0.776683</td>\n",
       "      <td>0.331441</td>\n",
       "      <td>-0.500431</td>\n",
       "    </tr>\n",
       "  </tbody>\n",
       "</table>\n",
       "</div>"
      ],
      "text/plain": [
       "          A         B         C         D\n",
       "0  0.934879 -0.134213  0.091423 -0.782324\n",
       "1  1.811006  0.182170  0.015382 -2.310417\n",
       "2  0.242163  1.837682  1.799558  0.478310\n",
       "4  0.093288  0.776683  0.331441 -0.500431"
      ]
     },
     "execution_count": 23,
     "metadata": {},
     "output_type": "execute_result"
    }
   ],
   "source": [
    "df[df.A > 0]"
   ]
  },
  {
   "cell_type": "code",
   "execution_count": 24,
   "metadata": {},
   "outputs": [
    {
     "name": "stdout",
     "output_type": "stream",
     "text": [
      "Int64Index([1, 2, 3, 4, 5], dtype='int64')\n"
     ]
    }
   ],
   "source": [
    "indx = df[df.B > 0].index\n",
    "print(indx)"
   ]
  },
  {
   "cell_type": "code",
   "execution_count": 25,
   "metadata": {},
   "outputs": [
    {
     "data": {
      "text/html": [
       "<div>\n",
       "<style scoped>\n",
       "    .dataframe tbody tr th:only-of-type {\n",
       "        vertical-align: middle;\n",
       "    }\n",
       "\n",
       "    .dataframe tbody tr th {\n",
       "        vertical-align: top;\n",
       "    }\n",
       "\n",
       "    .dataframe thead th {\n",
       "        text-align: right;\n",
       "    }\n",
       "</style>\n",
       "<table border=\"1\" class=\"dataframe\">\n",
       "  <thead>\n",
       "    <tr style=\"text-align: right;\">\n",
       "      <th></th>\n",
       "      <th>B</th>\n",
       "      <th>D</th>\n",
       "    </tr>\n",
       "  </thead>\n",
       "  <tbody>\n",
       "    <tr>\n",
       "      <th>1</th>\n",
       "      <td>0.182170</td>\n",
       "      <td>-2.310417</td>\n",
       "    </tr>\n",
       "    <tr>\n",
       "      <th>2</th>\n",
       "      <td>1.837682</td>\n",
       "      <td>0.478310</td>\n",
       "    </tr>\n",
       "    <tr>\n",
       "      <th>3</th>\n",
       "      <td>0.079400</td>\n",
       "      <td>0.728616</td>\n",
       "    </tr>\n",
       "    <tr>\n",
       "      <th>4</th>\n",
       "      <td>0.776683</td>\n",
       "      <td>-0.500431</td>\n",
       "    </tr>\n",
       "    <tr>\n",
       "      <th>5</th>\n",
       "      <td>0.412056</td>\n",
       "      <td>0.244264</td>\n",
       "    </tr>\n",
       "  </tbody>\n",
       "</table>\n",
       "</div>"
      ],
      "text/plain": [
       "          B         D\n",
       "1  0.182170 -2.310417\n",
       "2  1.837682  0.478310\n",
       "3  0.079400  0.728616\n",
       "4  0.776683 -0.500431\n",
       "5  0.412056  0.244264"
      ]
     },
     "execution_count": 25,
     "metadata": {},
     "output_type": "execute_result"
    }
   ],
   "source": [
    "df.loc[indx, ['B', 'D']]"
   ]
  },
  {
   "cell_type": "code",
   "execution_count": 26,
   "metadata": {},
   "outputs": [
    {
     "name": "stdout",
     "output_type": "stream",
     "text": [
      "          A         B         C         D             E\n",
      "0  0.934879 -0.134213  0.091423 -0.782324  Non positive\n",
      "1  1.811006  0.182170  0.015382 -2.310417      Positive\n",
      "2  0.242163  1.837682  1.799558  0.478310      Positive\n",
      "3 -0.049324  0.079400  0.613973  0.728616      Positive\n",
      "4  0.093288  0.776683  0.331441 -0.500431      Positive\n",
      "5 -0.061561  0.412056 -0.355617  0.244264      Positive\n"
     ]
    }
   ],
   "source": [
    "df['E'] = 'Non positive' # Creates a new column E, and populates the column with Non positive\n",
    "df.loc[indx, 'E'] = 'Positive' # Overwrites column E of rows of with index in indx\n",
    "print(df)"
   ]
  },
  {
   "cell_type": "markdown",
   "metadata": {},
   "source": [
    "## Reading and Writing MS Excel and CSV Files\n",
    "\n",
    "Most data is available in one of several common formats, such as, CSV, MS Excel, HDF5, SQL. Pandas provides functions to read and write all such formats."
   ]
  },
  {
   "cell_type": "code",
   "execution_count": 27,
   "metadata": {},
   "outputs": [
    {
     "name": "stdout",
     "output_type": "stream",
     "text": [
      "PCA CDB-2901-F-Census.xlsx: 1323 records\n",
      "95 columns\n",
      "<PandasArray>\n",
      "[         'State',       'District',        'DT Name',       'CD Block',\n",
      "   'Town/Village',           'Ward',             'EB',          'Level',\n",
      "           'Name',            'TRU',          'No_HH',          'TOT_P',\n",
      "          'TOT_M',          'TOT_F',           'P_06',           'M_06',\n",
      "           'F_06',           'P_SC',           'M_SC',           'F_SC',\n",
      "           'P_ST',           'M_ST',           'F_ST',          'P_LIT',\n",
      "          'M_LIT',          'F_LIT',          'P_ILL',          'M_ILL',\n",
      "          'F_ILL',     'TOT_WORK_P',     'TOT_WORK_M',     'TOT_WORK_F',\n",
      "     'MAINWORK_P',     'MAINWORK_M',     'MAINWORK_F',      'MAIN_CL_P',\n",
      "      'MAIN_CL_M',      'MAIN_CL_F',      'MAIN_AL_P',      'MAIN_AL_M',\n",
      "      'MAIN_AL_F',      'MAIN_HH_P',      'MAIN_HH_M',      'MAIN_HH_F',\n",
      "      'MAIN_OT_P',      'MAIN_OT_M',      'MAIN_OT_F',     'MARGWORK_P',\n",
      "     'MARGWORK_M',     'MARGWORK_F',      'MARG_CL_P',      'MARG_CL_M',\n",
      "      'MARG_CL_F',      'MARG_AL_P',      'MARG_AL_M',      'MARG_AL_F',\n",
      "      'MARG_HH_P',      'MARG_HH_M',      'MARG_HH_F',      'MARG_OT_P',\n",
      "      'MARG_OT_M',      'MARG_OT_F', 'MARGWORK_3_6_P', 'MARGWORK_3_6_M',\n",
      " 'MARGWORK_3_6_F',  'MARG_CL_3_6_P',  'MARG_CL_3_6_M',  'MARG_CL_3_6_F',\n",
      "  'MARG_AL_3_6_P',  'MARG_AL_3_6_M',  'MARG_AL_3_6_F',  'MARG_HH_3_6_P',\n",
      "  'MARG_HH_3_6_M',  'MARG_HH_3_6_F',  'MARG_OT_3_6_P',  'MARG_OT_3_6_M',\n",
      "  'MARG_OT_3_6_F', 'MARGWORK_0_3_P', 'MARGWORK_0_3_M', 'MARGWORK_0_3_F',\n",
      "  'MARG_CL_0_3_P',  'MARG_CL_0_3_M',  'MARG_CL_0_3_F',  'MARG_AL_0_3_P',\n",
      "  'MARG_AL_0_3_M',  'MARG_AL_0_3_F',  'MARG_HH_0_3_P',  'MARG_HH_0_3_M',\n",
      "  'MARG_HH_0_3_F',  'MARG_OT_0_3_P',  'MARG_OT_0_3_M',  'MARG_OT_0_3_F',\n",
      "     'NON_WORK_P',     'NON_WORK_M',     'NON_WORK_F']\n",
      "Length: 95, dtype: object\n"
     ]
    }
   ],
   "source": [
    "fn = 'PCA CDB-2901-F-Census.xlsx'\n",
    "df_bgm = pd.read_excel(pd.ExcelFile(fn))\n",
    "print(f\"{fn}: {len(df_bgm)} records\")\n",
    "print(f\"{len(df_bgm.columns)} columns\")\n",
    "print(df_bgm.columns.array)"
   ]
  },
  {
   "cell_type": "code",
   "execution_count": 28,
   "metadata": {},
   "outputs": [
    {
     "name": "stdout",
     "output_type": "stream",
     "text": [
      "11168997 6751338 60.447128779782105\n",
      "6751338 3894327 2857011 0\n"
     ]
    }
   ],
   "source": [
    "p_tot = df_bgm['TOT_P'].sum()\n",
    "p_male = df_bgm['TOT_M'].sum()\n",
    "p_female = df_bgm['TOT_F'].sum()\n",
    "p_lit = df_bgm['P_LIT'].sum()\n",
    "p_litm = df_bgm['M_LIT'].sum()\n",
    "p_litf = df_bgm['F_LIT'].sum()\n",
    "p_scm = df_bgm['M_SC'].sum()\n",
    "p_scf = df_bgm['F_SC'].sum()\n",
    "print(p_tot, p_lit, p_lit * 100 / p_tot)\n",
    "print(p_lit, p_litm, p_litf, p_litm+p_litf-p_lit)"
   ]
  },
  {
   "cell_type": "code",
   "execution_count": 29,
   "metadata": {},
   "outputs": [
    {
     "name": "stdout",
     "output_type": "stream",
     "text": [
      "PCA CDB-2901-F-Census.xlsx: 625 records\n",
      "95 columns\n",
      "<PandasArray>\n",
      "[         'State',       'District',        'DT Name',       'CD Block',\n",
      "   'Town/Village',           'Ward',             'EB',          'Level',\n",
      "           'Name',            'TRU',          'No_HH',          'TOT_P',\n",
      "          'TOT_M',          'TOT_F',           'P_06',           'M_06',\n",
      "           'F_06',           'P_SC',           'M_SC',           'F_SC',\n",
      "           'P_ST',           'M_ST',           'F_ST',          'P_LIT',\n",
      "          'M_LIT',          'F_LIT',          'P_ILL',          'M_ILL',\n",
      "          'F_ILL',     'TOT_WORK_P',     'TOT_WORK_M',     'TOT_WORK_F',\n",
      "     'MAINWORK_P',     'MAINWORK_M',     'MAINWORK_F',      'MAIN_CL_P',\n",
      "      'MAIN_CL_M',      'MAIN_CL_F',      'MAIN_AL_P',      'MAIN_AL_M',\n",
      "      'MAIN_AL_F',      'MAIN_HH_P',      'MAIN_HH_M',      'MAIN_HH_F',\n",
      "      'MAIN_OT_P',      'MAIN_OT_M',      'MAIN_OT_F',     'MARGWORK_P',\n",
      "     'MARGWORK_M',     'MARGWORK_F',      'MARG_CL_P',      'MARG_CL_M',\n",
      "      'MARG_CL_F',      'MARG_AL_P',      'MARG_AL_M',      'MARG_AL_F',\n",
      "      'MARG_HH_P',      'MARG_HH_M',      'MARG_HH_F',      'MARG_OT_P',\n",
      "      'MARG_OT_M',      'MARG_OT_F', 'MARGWORK_3_6_P', 'MARGWORK_3_6_M',\n",
      " 'MARGWORK_3_6_F',  'MARG_CL_3_6_P',  'MARG_CL_3_6_M',  'MARG_CL_3_6_F',\n",
      "  'MARG_AL_3_6_P',  'MARG_AL_3_6_M',  'MARG_AL_3_6_F',  'MARG_HH_3_6_P',\n",
      "  'MARG_HH_3_6_M',  'MARG_HH_3_6_F',  'MARG_OT_3_6_P',  'MARG_OT_3_6_M',\n",
      "  'MARG_OT_3_6_F', 'MARGWORK_0_3_P', 'MARGWORK_0_3_M', 'MARGWORK_0_3_F',\n",
      "  'MARG_CL_0_3_P',  'MARG_CL_0_3_M',  'MARG_CL_0_3_F',  'MARG_AL_0_3_P',\n",
      "  'MARG_AL_0_3_M',  'MARG_AL_0_3_F',  'MARG_HH_0_3_P',  'MARG_HH_0_3_M',\n",
      "  'MARG_HH_0_3_F',  'MARG_OT_0_3_P',  'MARG_OT_0_3_M',  'MARG_OT_0_3_F',\n",
      "     'NON_WORK_P',     'NON_WORK_M',     'NON_WORK_F']\n",
      "Length: 95, dtype: object\n"
     ]
    }
   ],
   "source": [
    "df_blr = pd.read_excel(pd.ExcelFile('PCA CDB-2918-F-Census.xlsx'))\n",
    "print(f\"{fn}: {len(df_blr)} records\")\n",
    "print(f\"{len(df_blr.columns)} columns\")\n",
    "print(df_blr.columns.array)"
   ]
  },
  {
   "cell_type": "code",
   "execution_count": 32,
   "metadata": {},
   "outputs": [
    {
     "name": "stdout",
     "output_type": "stream",
     "text": [
      "9742\n",
      "<class 'pandas.core.frame.DataFrame'>\n",
      "RangeIndex: 9742 entries, 0 to 9741\n",
      "Data columns (total 3 columns):\n",
      "movieId    9742 non-null int64\n",
      "title      9742 non-null object\n",
      "genres     9742 non-null object\n",
      "dtypes: int64(1), object(2)\n",
      "memory usage: 228.5+ KB\n"
     ]
    }
   ],
   "source": [
    "movies = pd.read_csv('movies.csv')\n",
    "print(len(movies))\n",
    "movies.info()"
   ]
  },
  {
   "cell_type": "code",
   "execution_count": 34,
   "metadata": {},
   "outputs": [
    {
     "name": "stdout",
     "output_type": "stream",
     "text": [
      "<class 'pandas.core.frame.DataFrame'>\n",
      "RangeIndex: 100836 entries, 0 to 100835\n",
      "Data columns (total 4 columns):\n",
      "userId       100836 non-null int64\n",
      "movieId      100836 non-null int64\n",
      "rating       100836 non-null float64\n",
      "timestamp    100836 non-null int64\n",
      "dtypes: float64(1), int64(3)\n",
      "memory usage: 3.1 MB\n"
     ]
    }
   ],
   "source": [
    "ratings = pd.read_csv('ratings.csv')\n",
    "ratings.info()"
   ]
  },
  {
   "cell_type": "code",
   "execution_count": 35,
   "metadata": {
    "scrolled": true
   },
   "outputs": [
    {
     "name": "stdout",
     "output_type": "stream",
     "text": [
      "<class 'pandas.core.frame.DataFrame'>\n",
      "RangeIndex: 9742 entries, 0 to 9741\n",
      "Data columns (total 3 columns):\n",
      "movieId    9742 non-null int64\n",
      "imdbId     9742 non-null int64\n",
      "tmdbId     9734 non-null float64\n",
      "dtypes: float64(1), int64(2)\n",
      "memory usage: 228.5 KB\n"
     ]
    }
   ],
   "source": [
    "links = pd.read_csv('links.csv')\n",
    "links.info()"
   ]
  },
  {
   "cell_type": "code",
   "execution_count": 37,
   "metadata": {},
   "outputs": [
    {
     "name": "stdout",
     "output_type": "stream",
     "text": [
      "<class 'pandas.core.frame.DataFrame'>\n",
      "RangeIndex: 3683 entries, 0 to 3682\n",
      "Data columns (total 4 columns):\n",
      "userId       3683 non-null int64\n",
      "movieId      3683 non-null int64\n",
      "tag          3683 non-null object\n",
      "timestamp    3683 non-null int64\n",
      "dtypes: int64(3), object(1)\n",
      "memory usage: 115.2+ KB\n"
     ]
    }
   ],
   "source": [
    "tags = pd.read_csv('tags.csv')\n",
    "tags.info()"
   ]
  },
  {
   "cell_type": "code",
   "execution_count": 38,
   "metadata": {},
   "outputs": [
    {
     "data": {
      "text/html": [
       "<div>\n",
       "<style scoped>\n",
       "    .dataframe tbody tr th:only-of-type {\n",
       "        vertical-align: middle;\n",
       "    }\n",
       "\n",
       "    .dataframe tbody tr th {\n",
       "        vertical-align: top;\n",
       "    }\n",
       "\n",
       "    .dataframe thead th {\n",
       "        text-align: right;\n",
       "    }\n",
       "</style>\n",
       "<table border=\"1\" class=\"dataframe\">\n",
       "  <thead>\n",
       "    <tr style=\"text-align: right;\">\n",
       "      <th></th>\n",
       "      <th>movieId</th>\n",
       "      <th>title</th>\n",
       "      <th>genres</th>\n",
       "      <th>imdbId</th>\n",
       "      <th>tmdbId</th>\n",
       "    </tr>\n",
       "  </thead>\n",
       "  <tbody>\n",
       "    <tr>\n",
       "      <th>0</th>\n",
       "      <td>1</td>\n",
       "      <td>Toy Story (1995)</td>\n",
       "      <td>Adventure|Animation|Children|Comedy|Fantasy</td>\n",
       "      <td>114709</td>\n",
       "      <td>862.0</td>\n",
       "    </tr>\n",
       "    <tr>\n",
       "      <th>1</th>\n",
       "      <td>2</td>\n",
       "      <td>Jumanji (1995)</td>\n",
       "      <td>Adventure|Children|Fantasy</td>\n",
       "      <td>113497</td>\n",
       "      <td>8844.0</td>\n",
       "    </tr>\n",
       "    <tr>\n",
       "      <th>2</th>\n",
       "      <td>3</td>\n",
       "      <td>Grumpier Old Men (1995)</td>\n",
       "      <td>Comedy|Romance</td>\n",
       "      <td>113228</td>\n",
       "      <td>15602.0</td>\n",
       "    </tr>\n",
       "    <tr>\n",
       "      <th>3</th>\n",
       "      <td>4</td>\n",
       "      <td>Waiting to Exhale (1995)</td>\n",
       "      <td>Comedy|Drama|Romance</td>\n",
       "      <td>114885</td>\n",
       "      <td>31357.0</td>\n",
       "    </tr>\n",
       "    <tr>\n",
       "      <th>4</th>\n",
       "      <td>5</td>\n",
       "      <td>Father of the Bride Part II (1995)</td>\n",
       "      <td>Comedy</td>\n",
       "      <td>113041</td>\n",
       "      <td>11862.0</td>\n",
       "    </tr>\n",
       "  </tbody>\n",
       "</table>\n",
       "</div>"
      ],
      "text/plain": [
       "   movieId                               title  \\\n",
       "0        1                    Toy Story (1995)   \n",
       "1        2                      Jumanji (1995)   \n",
       "2        3             Grumpier Old Men (1995)   \n",
       "3        4            Waiting to Exhale (1995)   \n",
       "4        5  Father of the Bride Part II (1995)   \n",
       "\n",
       "                                        genres  imdbId   tmdbId  \n",
       "0  Adventure|Animation|Children|Comedy|Fantasy  114709    862.0  \n",
       "1                   Adventure|Children|Fantasy  113497   8844.0  \n",
       "2                               Comedy|Romance  113228  15602.0  \n",
       "3                         Comedy|Drama|Romance  114885  31357.0  \n",
       "4                                       Comedy  113041  11862.0  "
      ]
     },
     "execution_count": 38,
     "metadata": {},
     "output_type": "execute_result"
    }
   ],
   "source": [
    "m = pd.merge(movies, links, on='movieId', how='inner')\n",
    "m.head()"
   ]
  },
  {
   "cell_type": "code",
   "execution_count": 39,
   "metadata": {},
   "outputs": [
    {
     "data": {
      "text/plain": [
       "629     pixar\n",
       "981     pixar\n",
       "2886      fun\n",
       "Name: tag, dtype: object"
      ]
     },
     "execution_count": 39,
     "metadata": {},
     "output_type": "execute_result"
    }
   ],
   "source": [
    "tags[tags['movieId']==1]['tag']"
   ]
  },
  {
   "cell_type": "code",
   "execution_count": 40,
   "metadata": {},
   "outputs": [],
   "source": [
    "mean_ratings = ratings.groupby('movieId', as_index=False)['rating'].mean()"
   ]
  },
  {
   "cell_type": "code",
   "execution_count": 83,
   "metadata": {
    "scrolled": true
   },
   "outputs": [
    {
     "data": {
      "text/html": [
       "<div>\n",
       "<style scoped>\n",
       "    .dataframe tbody tr th:only-of-type {\n",
       "        vertical-align: middle;\n",
       "    }\n",
       "\n",
       "    .dataframe tbody tr th {\n",
       "        vertical-align: top;\n",
       "    }\n",
       "\n",
       "    .dataframe thead th {\n",
       "        text-align: right;\n",
       "    }\n",
       "</style>\n",
       "<table border=\"1\" class=\"dataframe\">\n",
       "  <thead>\n",
       "    <tr style=\"text-align: right;\">\n",
       "      <th></th>\n",
       "      <th>movieId</th>\n",
       "      <th>rating</th>\n",
       "    </tr>\n",
       "  </thead>\n",
       "  <tbody>\n",
       "    <tr>\n",
       "      <th>0</th>\n",
       "      <td>1</td>\n",
       "      <td>3.920930</td>\n",
       "    </tr>\n",
       "    <tr>\n",
       "      <th>1</th>\n",
       "      <td>2</td>\n",
       "      <td>3.431818</td>\n",
       "    </tr>\n",
       "    <tr>\n",
       "      <th>2</th>\n",
       "      <td>3</td>\n",
       "      <td>3.259615</td>\n",
       "    </tr>\n",
       "    <tr>\n",
       "      <th>3</th>\n",
       "      <td>4</td>\n",
       "      <td>2.357143</td>\n",
       "    </tr>\n",
       "    <tr>\n",
       "      <th>4</th>\n",
       "      <td>5</td>\n",
       "      <td>3.071429</td>\n",
       "    </tr>\n",
       "    <tr>\n",
       "      <th>...</th>\n",
       "      <td>...</td>\n",
       "      <td>...</td>\n",
       "    </tr>\n",
       "    <tr>\n",
       "      <th>9719</th>\n",
       "      <td>193581</td>\n",
       "      <td>4.000000</td>\n",
       "    </tr>\n",
       "    <tr>\n",
       "      <th>9720</th>\n",
       "      <td>193583</td>\n",
       "      <td>3.500000</td>\n",
       "    </tr>\n",
       "    <tr>\n",
       "      <th>9721</th>\n",
       "      <td>193585</td>\n",
       "      <td>3.500000</td>\n",
       "    </tr>\n",
       "    <tr>\n",
       "      <th>9722</th>\n",
       "      <td>193587</td>\n",
       "      <td>3.500000</td>\n",
       "    </tr>\n",
       "    <tr>\n",
       "      <th>9723</th>\n",
       "      <td>193609</td>\n",
       "      <td>4.000000</td>\n",
       "    </tr>\n",
       "  </tbody>\n",
       "</table>\n",
       "<p>9724 rows × 2 columns</p>\n",
       "</div>"
      ],
      "text/plain": [
       "      movieId    rating\n",
       "0           1  3.920930\n",
       "1           2  3.431818\n",
       "2           3  3.259615\n",
       "3           4  2.357143\n",
       "4           5  3.071429\n",
       "...       ...       ...\n",
       "9719   193581  4.000000\n",
       "9720   193583  3.500000\n",
       "9721   193585  3.500000\n",
       "9722   193587  3.500000\n",
       "9723   193609  4.000000\n",
       "\n",
       "[9724 rows x 2 columns]"
      ]
     },
     "execution_count": 83,
     "metadata": {},
     "output_type": "execute_result"
    }
   ],
   "source": [
    "mean_ratings"
   ]
  },
  {
   "cell_type": "code",
   "execution_count": 41,
   "metadata": {
    "scrolled": true
   },
   "outputs": [],
   "source": [
    "m = m.merge(mean_ratings, on='movieId', how='inner').sort_values(['rating'], ascending=False)"
   ]
  },
  {
   "cell_type": "code",
   "execution_count": 82,
   "metadata": {
    "scrolled": true
   },
   "outputs": [
    {
     "data": {
      "text/html": [
       "<div>\n",
       "<style scoped>\n",
       "    .dataframe tbody tr th:only-of-type {\n",
       "        vertical-align: middle;\n",
       "    }\n",
       "\n",
       "    .dataframe tbody tr th {\n",
       "        vertical-align: top;\n",
       "    }\n",
       "\n",
       "    .dataframe thead th {\n",
       "        text-align: right;\n",
       "    }\n",
       "</style>\n",
       "<table border=\"1\" class=\"dataframe\">\n",
       "  <thead>\n",
       "    <tr style=\"text-align: right;\">\n",
       "      <th></th>\n",
       "      <th>movieId</th>\n",
       "      <th>title</th>\n",
       "      <th>genres</th>\n",
       "      <th>imdbId</th>\n",
       "      <th>tmdbId</th>\n",
       "      <th>rating</th>\n",
       "    </tr>\n",
       "  </thead>\n",
       "  <tbody>\n",
       "    <tr>\n",
       "      <th>0</th>\n",
       "      <td>1</td>\n",
       "      <td>Toy Story (1995)</td>\n",
       "      <td>Adventure|Animation|Children|Comedy|Fantasy</td>\n",
       "      <td>114709</td>\n",
       "      <td>862.0</td>\n",
       "      <td>3.920930</td>\n",
       "    </tr>\n",
       "    <tr>\n",
       "      <th>1</th>\n",
       "      <td>2</td>\n",
       "      <td>Jumanji (1995)</td>\n",
       "      <td>Adventure|Children|Fantasy</td>\n",
       "      <td>113497</td>\n",
       "      <td>8844.0</td>\n",
       "      <td>3.431818</td>\n",
       "    </tr>\n",
       "    <tr>\n",
       "      <th>2</th>\n",
       "      <td>3</td>\n",
       "      <td>Grumpier Old Men (1995)</td>\n",
       "      <td>Comedy|Romance</td>\n",
       "      <td>113228</td>\n",
       "      <td>15602.0</td>\n",
       "      <td>3.259615</td>\n",
       "    </tr>\n",
       "    <tr>\n",
       "      <th>3</th>\n",
       "      <td>4</td>\n",
       "      <td>Waiting to Exhale (1995)</td>\n",
       "      <td>Comedy|Drama|Romance</td>\n",
       "      <td>114885</td>\n",
       "      <td>31357.0</td>\n",
       "      <td>2.357143</td>\n",
       "    </tr>\n",
       "    <tr>\n",
       "      <th>4</th>\n",
       "      <td>5</td>\n",
       "      <td>Father of the Bride Part II (1995)</td>\n",
       "      <td>Comedy</td>\n",
       "      <td>113041</td>\n",
       "      <td>11862.0</td>\n",
       "      <td>3.071429</td>\n",
       "    </tr>\n",
       "    <tr>\n",
       "      <th>...</th>\n",
       "      <td>...</td>\n",
       "      <td>...</td>\n",
       "      <td>...</td>\n",
       "      <td>...</td>\n",
       "      <td>...</td>\n",
       "      <td>...</td>\n",
       "    </tr>\n",
       "    <tr>\n",
       "      <th>9719</th>\n",
       "      <td>193581</td>\n",
       "      <td>Black Butler: Book of the Atlantic (2017)</td>\n",
       "      <td>Action|Animation|Comedy|Fantasy</td>\n",
       "      <td>5476944</td>\n",
       "      <td>432131.0</td>\n",
       "      <td>4.000000</td>\n",
       "    </tr>\n",
       "    <tr>\n",
       "      <th>9720</th>\n",
       "      <td>193583</td>\n",
       "      <td>No Game No Life: Zero (2017)</td>\n",
       "      <td>Animation|Comedy|Fantasy</td>\n",
       "      <td>5914996</td>\n",
       "      <td>445030.0</td>\n",
       "      <td>3.500000</td>\n",
       "    </tr>\n",
       "    <tr>\n",
       "      <th>9721</th>\n",
       "      <td>193585</td>\n",
       "      <td>Flint (2017)</td>\n",
       "      <td>Drama</td>\n",
       "      <td>6397426</td>\n",
       "      <td>479308.0</td>\n",
       "      <td>3.500000</td>\n",
       "    </tr>\n",
       "    <tr>\n",
       "      <th>9722</th>\n",
       "      <td>193587</td>\n",
       "      <td>Bungo Stray Dogs: Dead Apple (2018)</td>\n",
       "      <td>Action|Animation</td>\n",
       "      <td>8391976</td>\n",
       "      <td>483455.0</td>\n",
       "      <td>3.500000</td>\n",
       "    </tr>\n",
       "    <tr>\n",
       "      <th>9723</th>\n",
       "      <td>193609</td>\n",
       "      <td>Andrew Dice Clay: Dice Rules (1991)</td>\n",
       "      <td>Comedy</td>\n",
       "      <td>101726</td>\n",
       "      <td>37891.0</td>\n",
       "      <td>4.000000</td>\n",
       "    </tr>\n",
       "  </tbody>\n",
       "</table>\n",
       "<p>9724 rows × 6 columns</p>\n",
       "</div>"
      ],
      "text/plain": [
       "      movieId                                      title  \\\n",
       "0           1                           Toy Story (1995)   \n",
       "1           2                             Jumanji (1995)   \n",
       "2           3                    Grumpier Old Men (1995)   \n",
       "3           4                   Waiting to Exhale (1995)   \n",
       "4           5         Father of the Bride Part II (1995)   \n",
       "...       ...                                        ...   \n",
       "9719   193581  Black Butler: Book of the Atlantic (2017)   \n",
       "9720   193583               No Game No Life: Zero (2017)   \n",
       "9721   193585                               Flint (2017)   \n",
       "9722   193587        Bungo Stray Dogs: Dead Apple (2018)   \n",
       "9723   193609        Andrew Dice Clay: Dice Rules (1991)   \n",
       "\n",
       "                                           genres   imdbId    tmdbId    rating  \n",
       "0     Adventure|Animation|Children|Comedy|Fantasy   114709     862.0  3.920930  \n",
       "1                      Adventure|Children|Fantasy   113497    8844.0  3.431818  \n",
       "2                                  Comedy|Romance   113228   15602.0  3.259615  \n",
       "3                            Comedy|Drama|Romance   114885   31357.0  2.357143  \n",
       "4                                          Comedy   113041   11862.0  3.071429  \n",
       "...                                           ...      ...       ...       ...  \n",
       "9719              Action|Animation|Comedy|Fantasy  5476944  432131.0  4.000000  \n",
       "9720                     Animation|Comedy|Fantasy  5914996  445030.0  3.500000  \n",
       "9721                                        Drama  6397426  479308.0  3.500000  \n",
       "9722                             Action|Animation  8391976  483455.0  3.500000  \n",
       "9723                                       Comedy   101726   37891.0  4.000000  \n",
       "\n",
       "[9724 rows x 6 columns]"
      ]
     },
     "execution_count": 82,
     "metadata": {},
     "output_type": "execute_result"
    }
   ],
   "source": [
    "m"
   ]
  },
  {
   "cell_type": "markdown",
   "metadata": {},
   "source": [
    "## apply()\n",
    "\n",
    "Pandas has several commonlyy required functions such as `count()`, `sum()`, `mean` that can be applied to values in a column to generate a new value. However, it is possible to write a Python function and apply it to the value in a column taking one row at a time. The Python function can involve any complex logic in order to generate the value. It is also possible to take values from more than one column as well as other data as inputs to the Python function if need be."
   ]
  },
  {
   "cell_type": "code",
   "execution_count": 87,
   "metadata": {},
   "outputs": [
    {
     "data": {
      "text/html": [
       "<div>\n",
       "<style scoped>\n",
       "    .dataframe tbody tr th:only-of-type {\n",
       "        vertical-align: middle;\n",
       "    }\n",
       "\n",
       "    .dataframe tbody tr th {\n",
       "        vertical-align: top;\n",
       "    }\n",
       "\n",
       "    .dataframe thead th {\n",
       "        text-align: right;\n",
       "    }\n",
       "</style>\n",
       "<table border=\"1\" class=\"dataframe\">\n",
       "  <thead>\n",
       "    <tr style=\"text-align: right;\">\n",
       "      <th></th>\n",
       "      <th>usn</th>\n",
       "      <th>marks</th>\n",
       "    </tr>\n",
       "  </thead>\n",
       "  <tbody>\n",
       "    <tr>\n",
       "      <th>0</th>\n",
       "      <td>1</td>\n",
       "      <td>25</td>\n",
       "    </tr>\n",
       "    <tr>\n",
       "      <th>1</th>\n",
       "      <td>2</td>\n",
       "      <td>40</td>\n",
       "    </tr>\n",
       "    <tr>\n",
       "      <th>2</th>\n",
       "      <td>3</td>\n",
       "      <td>51</td>\n",
       "    </tr>\n",
       "    <tr>\n",
       "      <th>3</th>\n",
       "      <td>4</td>\n",
       "      <td>64</td>\n",
       "    </tr>\n",
       "    <tr>\n",
       "      <th>4</th>\n",
       "      <td>5</td>\n",
       "      <td>85</td>\n",
       "    </tr>\n",
       "  </tbody>\n",
       "</table>\n",
       "</div>"
      ],
      "text/plain": [
       "   usn  marks\n",
       "0    1     25\n",
       "1    2     40\n",
       "2    3     51\n",
       "3    4     64\n",
       "4    5     85"
      ]
     },
     "execution_count": 87,
     "metadata": {},
     "output_type": "execute_result"
    }
   ],
   "source": [
    "df_marks = pd.DataFrame({'usn': [1, 2, 3, 4, 5], 'marks': [25, 40, 51, 64, 85]})\n",
    "df_marks"
   ]
  },
  {
   "cell_type": "code",
   "execution_count": 89,
   "metadata": {},
   "outputs": [
    {
     "data": {
      "text/plain": [
       "0    F\n",
       "1    E\n",
       "2    D\n",
       "3    C\n",
       "4    A\n",
       "Name: marks, dtype: object"
      ]
     },
     "execution_count": 89,
     "metadata": {},
     "output_type": "execute_result"
    }
   ],
   "source": [
    "def calc_grade(marks):\n",
    "    if marks < 40:\n",
    "        return 'F'\n",
    "    elif marks < 51:\n",
    "        return 'E'\n",
    "    elif marks < 61:\n",
    "        return 'D'\n",
    "    elif marks < 71:\n",
    "        return 'C'\n",
    "    elif marks < 81:\n",
    "        return 'B'\n",
    "    elif marks < 91:\n",
    "        return 'A'\n",
    "    elif marks < 101:\n",
    "        return 'S'\n",
    "    else:\n",
    "        return None\n",
    "\n",
    "df_marks['marks'].apply(calc_grade)"
   ]
  },
  {
   "cell_type": "markdown",
   "metadata": {},
   "source": [
    "## pandasql\n",
    "\n",
    "pandasql is a Python package that allows "
   ]
  },
  {
   "cell_type": "code",
   "execution_count": 90,
   "metadata": {},
   "outputs": [
    {
     "name": "stdout",
     "output_type": "stream",
     "text": [
      "<class 'pandas.core.frame.DataFrame'>\n"
     ]
    },
    {
     "data": {
      "text/html": [
       "<div>\n",
       "<style scoped>\n",
       "    .dataframe tbody tr th:only-of-type {\n",
       "        vertical-align: middle;\n",
       "    }\n",
       "\n",
       "    .dataframe tbody tr th {\n",
       "        vertical-align: top;\n",
       "    }\n",
       "\n",
       "    .dataframe thead th {\n",
       "        text-align: right;\n",
       "    }\n",
       "</style>\n",
       "<table border=\"1\" class=\"dataframe\">\n",
       "  <thead>\n",
       "    <tr style=\"text-align: right;\">\n",
       "      <th></th>\n",
       "      <th>movieId</th>\n",
       "      <th>title</th>\n",
       "      <th>genres</th>\n",
       "    </tr>\n",
       "  </thead>\n",
       "  <tbody>\n",
       "    <tr>\n",
       "      <th>0</th>\n",
       "      <td>1</td>\n",
       "      <td>Toy Story (1995)</td>\n",
       "      <td>Adventure|Animation|Children|Comedy|Fantasy</td>\n",
       "    </tr>\n",
       "    <tr>\n",
       "      <th>1</th>\n",
       "      <td>2</td>\n",
       "      <td>Jumanji (1995)</td>\n",
       "      <td>Adventure|Children|Fantasy</td>\n",
       "    </tr>\n",
       "    <tr>\n",
       "      <th>2</th>\n",
       "      <td>3</td>\n",
       "      <td>Grumpier Old Men (1995)</td>\n",
       "      <td>Comedy|Romance</td>\n",
       "    </tr>\n",
       "    <tr>\n",
       "      <th>3</th>\n",
       "      <td>4</td>\n",
       "      <td>Waiting to Exhale (1995)</td>\n",
       "      <td>Comedy|Drama|Romance</td>\n",
       "    </tr>\n",
       "    <tr>\n",
       "      <th>4</th>\n",
       "      <td>5</td>\n",
       "      <td>Father of the Bride Part II (1995)</td>\n",
       "      <td>Comedy</td>\n",
       "    </tr>\n",
       "    <tr>\n",
       "      <th>...</th>\n",
       "      <td>...</td>\n",
       "      <td>...</td>\n",
       "      <td>...</td>\n",
       "    </tr>\n",
       "    <tr>\n",
       "      <th>9737</th>\n",
       "      <td>193581</td>\n",
       "      <td>Black Butler: Book of the Atlantic (2017)</td>\n",
       "      <td>Action|Animation|Comedy|Fantasy</td>\n",
       "    </tr>\n",
       "    <tr>\n",
       "      <th>9738</th>\n",
       "      <td>193583</td>\n",
       "      <td>No Game No Life: Zero (2017)</td>\n",
       "      <td>Animation|Comedy|Fantasy</td>\n",
       "    </tr>\n",
       "    <tr>\n",
       "      <th>9739</th>\n",
       "      <td>193585</td>\n",
       "      <td>Flint (2017)</td>\n",
       "      <td>Drama</td>\n",
       "    </tr>\n",
       "    <tr>\n",
       "      <th>9740</th>\n",
       "      <td>193587</td>\n",
       "      <td>Bungo Stray Dogs: Dead Apple (2018)</td>\n",
       "      <td>Action|Animation</td>\n",
       "    </tr>\n",
       "    <tr>\n",
       "      <th>9741</th>\n",
       "      <td>193609</td>\n",
       "      <td>Andrew Dice Clay: Dice Rules (1991)</td>\n",
       "      <td>Comedy</td>\n",
       "    </tr>\n",
       "  </tbody>\n",
       "</table>\n",
       "<p>9742 rows × 3 columns</p>\n",
       "</div>"
      ],
      "text/plain": [
       "      movieId                                      title  \\\n",
       "0           1                           Toy Story (1995)   \n",
       "1           2                             Jumanji (1995)   \n",
       "2           3                    Grumpier Old Men (1995)   \n",
       "3           4                   Waiting to Exhale (1995)   \n",
       "4           5         Father of the Bride Part II (1995)   \n",
       "...       ...                                        ...   \n",
       "9737   193581  Black Butler: Book of the Atlantic (2017)   \n",
       "9738   193583               No Game No Life: Zero (2017)   \n",
       "9739   193585                               Flint (2017)   \n",
       "9740   193587        Bungo Stray Dogs: Dead Apple (2018)   \n",
       "9741   193609        Andrew Dice Clay: Dice Rules (1991)   \n",
       "\n",
       "                                           genres  \n",
       "0     Adventure|Animation|Children|Comedy|Fantasy  \n",
       "1                      Adventure|Children|Fantasy  \n",
       "2                                  Comedy|Romance  \n",
       "3                            Comedy|Drama|Romance  \n",
       "4                                          Comedy  \n",
       "...                                           ...  \n",
       "9737              Action|Animation|Comedy|Fantasy  \n",
       "9738                     Animation|Comedy|Fantasy  \n",
       "9739                                        Drama  \n",
       "9740                             Action|Animation  \n",
       "9741                                       Comedy  \n",
       "\n",
       "[9742 rows x 3 columns]"
      ]
     },
     "execution_count": 90,
     "metadata": {},
     "output_type": "execute_result"
    }
   ],
   "source": [
    "from pandasql import sqldf\n",
    "\n",
    "pysqldf = lambda q: sqldf(q, globals())\n",
    "\n",
    "res = pysqldf('SELECT * FROM movies')\n",
    "print(type(res))\n",
    "res"
   ]
  },
  {
   "cell_type": "code",
   "execution_count": 91,
   "metadata": {
    "scrolled": true
   },
   "outputs": [
    {
     "data": {
      "text/html": [
       "<div>\n",
       "<style scoped>\n",
       "    .dataframe tbody tr th:only-of-type {\n",
       "        vertical-align: middle;\n",
       "    }\n",
       "\n",
       "    .dataframe tbody tr th {\n",
       "        vertical-align: top;\n",
       "    }\n",
       "\n",
       "    .dataframe thead th {\n",
       "        text-align: right;\n",
       "    }\n",
       "</style>\n",
       "<table border=\"1\" class=\"dataframe\">\n",
       "  <thead>\n",
       "    <tr style=\"text-align: right;\">\n",
       "      <th></th>\n",
       "      <th>movieId</th>\n",
       "      <th>title</th>\n",
       "      <th>COUNT(ratings.movieId)</th>\n",
       "      <th>AVG(ratings.rating)</th>\n",
       "    </tr>\n",
       "  </thead>\n",
       "  <tbody>\n",
       "    <tr>\n",
       "      <th>0</th>\n",
       "      <td>187717</td>\n",
       "      <td>Won't You Be My Neighbor? (2018)</td>\n",
       "      <td>1</td>\n",
       "      <td>5.0</td>\n",
       "    </tr>\n",
       "    <tr>\n",
       "      <th>1</th>\n",
       "      <td>184245</td>\n",
       "      <td>De platte jungle (1978)</td>\n",
       "      <td>1</td>\n",
       "      <td>5.0</td>\n",
       "    </tr>\n",
       "    <tr>\n",
       "      <th>2</th>\n",
       "      <td>179135</td>\n",
       "      <td>Blue Planet II (2017)</td>\n",
       "      <td>1</td>\n",
       "      <td>5.0</td>\n",
       "    </tr>\n",
       "    <tr>\n",
       "      <th>3</th>\n",
       "      <td>179133</td>\n",
       "      <td>Loving Vincent (2017)</td>\n",
       "      <td>1</td>\n",
       "      <td>5.0</td>\n",
       "    </tr>\n",
       "    <tr>\n",
       "      <th>4</th>\n",
       "      <td>176601</td>\n",
       "      <td>Black Mirror</td>\n",
       "      <td>1</td>\n",
       "      <td>5.0</td>\n",
       "    </tr>\n",
       "    <tr>\n",
       "      <th>...</th>\n",
       "      <td>...</td>\n",
       "      <td>...</td>\n",
       "      <td>...</td>\n",
       "      <td>...</td>\n",
       "    </tr>\n",
       "    <tr>\n",
       "      <th>9737</th>\n",
       "      <td>4194</td>\n",
       "      <td>I Know Where I'm Going! (1945)</td>\n",
       "      <td>0</td>\n",
       "      <td>NaN</td>\n",
       "    </tr>\n",
       "    <tr>\n",
       "      <th>9738</th>\n",
       "      <td>3456</td>\n",
       "      <td>Color of Paradise, The (Rang-e khoda) (1999)</td>\n",
       "      <td>0</td>\n",
       "      <td>NaN</td>\n",
       "    </tr>\n",
       "    <tr>\n",
       "      <th>9739</th>\n",
       "      <td>3338</td>\n",
       "      <td>For All Mankind (1989)</td>\n",
       "      <td>0</td>\n",
       "      <td>NaN</td>\n",
       "    </tr>\n",
       "    <tr>\n",
       "      <th>9740</th>\n",
       "      <td>2939</td>\n",
       "      <td>Niagara (1953)</td>\n",
       "      <td>0</td>\n",
       "      <td>NaN</td>\n",
       "    </tr>\n",
       "    <tr>\n",
       "      <th>9741</th>\n",
       "      <td>1076</td>\n",
       "      <td>Innocents, The (1961)</td>\n",
       "      <td>0</td>\n",
       "      <td>NaN</td>\n",
       "    </tr>\n",
       "  </tbody>\n",
       "</table>\n",
       "<p>9742 rows × 4 columns</p>\n",
       "</div>"
      ],
      "text/plain": [
       "      movieId                                         title  \\\n",
       "0      187717              Won't You Be My Neighbor? (2018)   \n",
       "1      184245                       De platte jungle (1978)   \n",
       "2      179135                         Blue Planet II (2017)   \n",
       "3      179133                         Loving Vincent (2017)   \n",
       "4      176601                                  Black Mirror   \n",
       "...       ...                                           ...   \n",
       "9737     4194                I Know Where I'm Going! (1945)   \n",
       "9738     3456  Color of Paradise, The (Rang-e khoda) (1999)   \n",
       "9739     3338                        For All Mankind (1989)   \n",
       "9740     2939                                Niagara (1953)   \n",
       "9741     1076                         Innocents, The (1961)   \n",
       "\n",
       "      COUNT(ratings.movieId)  AVG(ratings.rating)  \n",
       "0                          1                  5.0  \n",
       "1                          1                  5.0  \n",
       "2                          1                  5.0  \n",
       "3                          1                  5.0  \n",
       "4                          1                  5.0  \n",
       "...                      ...                  ...  \n",
       "9737                       0                  NaN  \n",
       "9738                       0                  NaN  \n",
       "9739                       0                  NaN  \n",
       "9740                       0                  NaN  \n",
       "9741                       0                  NaN  \n",
       "\n",
       "[9742 rows x 4 columns]"
      ]
     },
     "execution_count": 91,
     "metadata": {},
     "output_type": "execute_result"
    }
   ],
   "source": [
    "q = '''SELECT movies.movieId, movies.title, COUNT(ratings.movieId), AVG(ratings.rating) FROM movies LEFT JOIN ratings ON movies.movieId=ratings.movieId GROUP BY movies.movieId ORDER BY AVG(ratings.rating) DESC'''\n",
    "#q = 'SELECT movies.movieId, movies.title, links.imdbId FROM movies LEFT JOIN links ON movies.movieId=links.movieId'\n",
    "pysqldf(q)"
   ]
  },
  {
   "cell_type": "code",
   "execution_count": 92,
   "metadata": {},
   "outputs": [
    {
     "data": {
      "text/html": [
       "<div>\n",
       "<style scoped>\n",
       "    .dataframe tbody tr th:only-of-type {\n",
       "        vertical-align: middle;\n",
       "    }\n",
       "\n",
       "    .dataframe tbody tr th {\n",
       "        vertical-align: top;\n",
       "    }\n",
       "\n",
       "    .dataframe thead th {\n",
       "        text-align: right;\n",
       "    }\n",
       "</style>\n",
       "<table border=\"1\" class=\"dataframe\">\n",
       "  <thead>\n",
       "    <tr style=\"text-align: right;\">\n",
       "      <th></th>\n",
       "      <th>movieId</th>\n",
       "      <th>rating</th>\n",
       "      <th>title</th>\n",
       "      <th>genres</th>\n",
       "    </tr>\n",
       "  </thead>\n",
       "  <tbody>\n",
       "    <tr>\n",
       "      <th>0</th>\n",
       "      <td>88448</td>\n",
       "      <td>5.0</td>\n",
       "      <td>Paper Birds (Pájaros de papel) (2010)</td>\n",
       "      <td>Comedy|Drama</td>\n",
       "    </tr>\n",
       "    <tr>\n",
       "      <th>1</th>\n",
       "      <td>100556</td>\n",
       "      <td>5.0</td>\n",
       "      <td>Act of Killing, The (2012)</td>\n",
       "      <td>Documentary</td>\n",
       "    </tr>\n",
       "    <tr>\n",
       "      <th>2</th>\n",
       "      <td>143031</td>\n",
       "      <td>5.0</td>\n",
       "      <td>Jump In! (2007)</td>\n",
       "      <td>Comedy|Drama|Romance</td>\n",
       "    </tr>\n",
       "    <tr>\n",
       "      <th>3</th>\n",
       "      <td>143511</td>\n",
       "      <td>5.0</td>\n",
       "      <td>Human (2015)</td>\n",
       "      <td>Documentary</td>\n",
       "    </tr>\n",
       "    <tr>\n",
       "      <th>4</th>\n",
       "      <td>143559</td>\n",
       "      <td>5.0</td>\n",
       "      <td>L.A. Slasher (2015)</td>\n",
       "      <td>Comedy|Crime|Fantasy</td>\n",
       "    </tr>\n",
       "    <tr>\n",
       "      <th>...</th>\n",
       "      <td>...</td>\n",
       "      <td>...</td>\n",
       "      <td>...</td>\n",
       "      <td>...</td>\n",
       "    </tr>\n",
       "    <tr>\n",
       "      <th>9719</th>\n",
       "      <td>157172</td>\n",
       "      <td>0.5</td>\n",
       "      <td>Wizards of the Lost Kingdom II (1989)</td>\n",
       "      <td>Action|Fantasy</td>\n",
       "    </tr>\n",
       "    <tr>\n",
       "      <th>9720</th>\n",
       "      <td>85334</td>\n",
       "      <td>0.5</td>\n",
       "      <td>Hard Ticket to Hawaii (1987)</td>\n",
       "      <td>Action|Comedy</td>\n",
       "    </tr>\n",
       "    <tr>\n",
       "      <th>9721</th>\n",
       "      <td>53453</td>\n",
       "      <td>0.5</td>\n",
       "      <td>Starcrash (a.k.a. Star Crash) (1978)</td>\n",
       "      <td>Action|Adventure|Fantasy|Sci-Fi</td>\n",
       "    </tr>\n",
       "    <tr>\n",
       "      <th>9722</th>\n",
       "      <td>8494</td>\n",
       "      <td>0.5</td>\n",
       "      <td>Cincinnati Kid, The (1965)</td>\n",
       "      <td>Drama</td>\n",
       "    </tr>\n",
       "    <tr>\n",
       "      <th>9723</th>\n",
       "      <td>71810</td>\n",
       "      <td>0.5</td>\n",
       "      <td>Legionnaire (1998)</td>\n",
       "      <td>Action|Adventure|Drama|War</td>\n",
       "    </tr>\n",
       "  </tbody>\n",
       "</table>\n",
       "<p>9724 rows × 4 columns</p>\n",
       "</div>"
      ],
      "text/plain": [
       "      movieId  rating                                  title  \\\n",
       "0       88448     5.0  Paper Birds (Pájaros de papel) (2010)   \n",
       "1      100556     5.0             Act of Killing, The (2012)   \n",
       "2      143031     5.0                        Jump In! (2007)   \n",
       "3      143511     5.0                           Human (2015)   \n",
       "4      143559     5.0                    L.A. Slasher (2015)   \n",
       "...       ...     ...                                    ...   \n",
       "9719   157172     0.5  Wizards of the Lost Kingdom II (1989)   \n",
       "9720    85334     0.5           Hard Ticket to Hawaii (1987)   \n",
       "9721    53453     0.5   Starcrash (a.k.a. Star Crash) (1978)   \n",
       "9722     8494     0.5             Cincinnati Kid, The (1965)   \n",
       "9723    71810     0.5                     Legionnaire (1998)   \n",
       "\n",
       "                               genres  \n",
       "0                        Comedy|Drama  \n",
       "1                         Documentary  \n",
       "2                Comedy|Drama|Romance  \n",
       "3                         Documentary  \n",
       "4                Comedy|Crime|Fantasy  \n",
       "...                               ...  \n",
       "9719                   Action|Fantasy  \n",
       "9720                    Action|Comedy  \n",
       "9721  Action|Adventure|Fantasy|Sci-Fi  \n",
       "9722                            Drama  \n",
       "9723       Action|Adventure|Drama|War  \n",
       "\n",
       "[9724 rows x 4 columns]"
      ]
     },
     "execution_count": 92,
     "metadata": {},
     "output_type": "execute_result"
    }
   ],
   "source": [
    "g = ratings.groupby('movieId', as_index=False)['rating'].mean().sort_values('rating', ascending=False).merge(movies, on='movieId')\n",
    "g"
   ]
  },
  {
   "cell_type": "markdown",
   "metadata": {},
   "source": [
    "# References\n",
    "* [Official Pandas tutorials](https://pandas.pydata.org/pandas-docs/stable/getting_started/tutorials.html)\n",
    "* [10 minutes to pandas](https://pandas.pydata.org/pandas-docs/stable/getting_started/10min.html#min)\n",
    "* [Intro to pandas data structures by Greg Reda](http://www.gregreda.com/2013/10/26/intro-to-pandas-data-structures/)\n",
    "* [pandasql](https://github.com/yhat/pandasql/)"
   ]
  }
 ],
 "metadata": {
  "kernelspec": {
   "display_name": "Python 3",
   "language": "python",
   "name": "python3"
  },
  "language_info": {
   "codemirror_mode": {
    "name": "ipython",
    "version": 3
   },
   "file_extension": ".py",
   "mimetype": "text/x-python",
   "name": "python",
   "nbconvert_exporter": "python",
   "pygments_lexer": "ipython3",
   "version": "3.7.6"
  }
 },
 "nbformat": 4,
 "nbformat_minor": 2
}
